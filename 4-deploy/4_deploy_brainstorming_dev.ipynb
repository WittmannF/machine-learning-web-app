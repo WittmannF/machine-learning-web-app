{
  "nbformat": 4,
  "nbformat_minor": 0,
  "metadata": {
    "colab": {
      "name": "4_deploy_brainstorming_dev.ipynb",
      "provenance": [],
      "collapsed_sections": [],
      "authorship_tag": "ABX9TyMQI9nvNhWEBwobTC3M477U",
      "include_colab_link": true
    },
    "kernelspec": {
      "name": "python3",
      "display_name": "Python 3"
    }
  },
  "cells": [
    {
      "cell_type": "markdown",
      "metadata": {
        "id": "view-in-github",
        "colab_type": "text"
      },
      "source": [
        "<a href=\"https://colab.research.google.com/github/WittmannF/machine-learning-web-app/blob/master/4-deploy/4_deploy_brainstorming_dev.ipynb\" target=\"_parent\"><img src=\"https://colab.research.google.com/assets/colab-badge.svg\" alt=\"Open In Colab\"/></a>"
      ]
    },
    {
      "cell_type": "code",
      "metadata": {
        "id": "5sIhQHKtH0Qo",
        "colab_type": "code",
        "colab": {}
      },
      "source": [
        "## Imports\n",
        "import pickle\n",
        "import numpy as np"
      ],
      "execution_count": 0,
      "outputs": []
    },
    {
      "cell_type": "code",
      "metadata": {
        "id": "-xkAoRF7IagI",
        "colab_type": "code",
        "colab": {}
      },
      "source": [
        "## Parameters\n",
        "URL_TREINO = 'https://raw.githubusercontent.com/WittmannF/machine-learning-web-app/master/2-preprocessamento/treino_preprocessado.csv'\n",
        "URL_TESTE = 'https://raw.githubusercontent.com/WittmannF/machine-learning-web-app/master/2-preprocessamento/teste_preprocessado.csv'\n",
        "URL_MODELO = 'https://github.com/WittmannF/machine-learning-web-app/raw/master/3-machine-learning/regressor.pkl'"
      ],
      "execution_count": 0,
      "outputs": []
    },
    {
      "cell_type": "code",
      "metadata": {
        "id": "sgcBT5PgiBBy",
        "colab_type": "code",
        "outputId": "dfb39385-e641-4948-ca87-af032525645f",
        "colab": {
          "base_uri": "https://localhost:8080/",
          "height": 289
        }
      },
      "source": [
        "!wget {URL_MODELO}"
      ],
      "execution_count": 3,
      "outputs": [
        {
          "output_type": "stream",
          "text": [
            "--2020-05-05 14:01:16--  https://github.com/WittmannF/machine-learning-web-app/raw/master/3-machine-learning/regressor.pkl\n",
            "Resolving github.com (github.com)... 140.82.113.4\n",
            "Connecting to github.com (github.com)|140.82.113.4|:443... connected.\n",
            "HTTP request sent, awaiting response... 302 Found\n",
            "Location: https://raw.githubusercontent.com/WittmannF/machine-learning-web-app/master/3-machine-learning/regressor.pkl [following]\n",
            "--2020-05-05 14:01:17--  https://raw.githubusercontent.com/WittmannF/machine-learning-web-app/master/3-machine-learning/regressor.pkl\n",
            "Resolving raw.githubusercontent.com (raw.githubusercontent.com)... 151.101.0.133, 151.101.64.133, 151.101.128.133, ...\n",
            "Connecting to raw.githubusercontent.com (raw.githubusercontent.com)|151.101.0.133|:443... connected.\n",
            "HTTP request sent, awaiting response... 200 OK\n",
            "Length: 200919 (196K) [application/octet-stream]\n",
            "Saving to: ‘regressor.pkl’\n",
            "\n",
            "regressor.pkl       100%[===================>] 196.21K  --.-KB/s    in 0.04s   \n",
            "\n",
            "2020-05-05 14:01:19 (4.27 MB/s) - ‘regressor.pkl’ saved [200919/200919]\n",
            "\n"
          ],
          "name": "stdout"
        }
      ]
    },
    {
      "cell_type": "code",
      "metadata": {
        "id": "br76ZQu-inkF",
        "colab_type": "code",
        "colab": {}
      },
      "source": [
        "reg = pickle.load(open('regressor.pkl', 'rb'))"
      ],
      "execution_count": 0,
      "outputs": []
    },
    {
      "cell_type": "code",
      "metadata": {
        "id": "TuVuBIpsi8mz",
        "colab_type": "code",
        "outputId": "d4178d02-bbaf-4309-8ebe-02f07c3408e1",
        "colab": {
          "base_uri": "https://localhost:8080/",
          "height": 629
        }
      },
      "source": [
        "reg"
      ],
      "execution_count": 5,
      "outputs": [
        {
          "output_type": "execute_result",
          "data": {
            "text/plain": [
              "StackingRegressor(cv=None,\n",
              "                  estimators=[('svr',\n",
              "                               GridSearchCV(cv=5, error_score=nan,\n",
              "                                            estimator=SVR(C=1.0, cache_size=200,\n",
              "                                                          coef0=0.0, degree=3,\n",
              "                                                          epsilon=0.1,\n",
              "                                                          gamma='scale',\n",
              "                                                          kernel='rbf',\n",
              "                                                          max_iter=-1,\n",
              "                                                          shrinking=True,\n",
              "                                                          tol=0.001,\n",
              "                                                          verbose=False),\n",
              "                                            iid='deprecated', n_jobs=None,\n",
              "                                            param_grid=({'C': [1, 5, 10],\n",
              "                                                         'kernel': ('linear',\n",
              "                                                                    'poly',\n",
              "                                                                    'rbf')},),\n",
              "                                            pre_dispatch='2*n_jobs', refit=True,...\n",
              "                                                                    reg_lambda=0.0,\n",
              "                                                                    silent=True,\n",
              "                                                                    subsample=1.0,\n",
              "                                                                    subsample_for_bin=200000,\n",
              "                                                                    subsample_freq=0),\n",
              "                                            iid='deprecated', n_jobs=None,\n",
              "                                            param_grid={'learning_rate': [0.01,\n",
              "                                                                          0.1,\n",
              "                                                                          1],\n",
              "                                                        'n_estimators': [20, 40,\n",
              "                                                                         100],\n",
              "                                                        'num_leaves': [6, 16,\n",
              "                                                                       31]},\n",
              "                                            pre_dispatch='2*n_jobs', refit=True,\n",
              "                                            return_train_score=False,\n",
              "                                            scoring=None, verbose=0))],\n",
              "                  final_estimator=None, n_jobs=None, passthrough=False,\n",
              "                  verbose=0)"
            ]
          },
          "metadata": {
            "tags": []
          },
          "execution_count": 5
        }
      ]
    },
    {
      "cell_type": "code",
      "metadata": {
        "id": "GiiEjmQojKhS",
        "colab_type": "code",
        "outputId": "612f8d30-e99c-4adf-e842-8c3e6608e962",
        "colab": {
          "base_uri": "https://localhost:8080/",
          "height": 34
        }
      },
      "source": [
        "np.expm1(reg.predict([[0, 0, 1, np.log1p(2), np.log1p(120)]]))[0]"
      ],
      "execution_count": 6,
      "outputs": [
        {
          "output_type": "execute_result",
          "data": {
            "text/plain": [
              "2703.3232617498397"
            ]
          },
          "metadata": {
            "tags": []
          },
          "execution_count": 6
        }
      ]
    },
    {
      "cell_type": "code",
      "metadata": {
        "id": "zPhKhpfxoOIv",
        "colab_type": "code",
        "outputId": "f59dcc66-2e08-4e50-f1cc-65d1367cb3dd",
        "colab": {
          "base_uri": "https://localhost:8080/",
          "height": 130
        }
      },
      "source": [
        "export_py = \"\"\"from flask import Flask, render_template\n",
        "app = Flask(__name__)\n",
        "@app.route('/')\n",
        "def index():\n",
        "    return render_template('first_app.html')\n",
        "\n",
        "if __name__ == '__main__':\n",
        "    app.run()\"\"\""
      ],
      "execution_count": 0,
      "outputs": [
        {
          "output_type": "error",
          "ename": "SyntaxError",
          "evalue": "ignored",
          "traceback": [
            "\u001b[0;36m  File \u001b[0;32m\"<ipython-input-11-dcde6afe041f>\"\u001b[0;36m, line \u001b[0;32m8\u001b[0m\n\u001b[0;31m    app.run()\"\"\"\u001b[0m\n\u001b[0m                ^\u001b[0m\n\u001b[0;31mSyntaxError\u001b[0m\u001b[0;31m:\u001b[0m EOF while scanning triple-quoted string literal\n"
          ]
        }
      ]
    },
    {
      "cell_type": "code",
      "metadata": {
        "id": "aHqpo9NUhIzf",
        "colab_type": "code",
        "colab": {}
      },
      "source": [
        "with open(\"app.py\", \"w\") as text_file:\n",
        "    text_file.write(export_py)"
      ],
      "execution_count": 0,
      "outputs": []
    },
    {
      "cell_type": "code",
      "metadata": {
        "id": "ktyhNtdOihV5",
        "colab_type": "code",
        "outputId": "aaaeb50d-6d95-45aa-c14b-fda7f3d9b140",
        "colab": {
          "base_uri": "https://localhost:8080/",
          "height": 153
        }
      },
      "source": [
        "!cat app.py"
      ],
      "execution_count": 0,
      "outputs": [
        {
          "output_type": "stream",
          "text": [
            "from flask import Flask, render_template\n",
            "app = Flask(__name__)\n",
            "@app.route('/')\n",
            "def index():\n",
            "    return render_template('first_app.html')\n",
            "\n",
            "if __name__ == '__main__':\n",
            "    app.run()"
          ],
          "name": "stdout"
        }
      ]
    },
    {
      "cell_type": "code",
      "metadata": {
        "id": "sKwDRj84jSwO",
        "colab_type": "code",
        "colab": {}
      },
      "source": [
        "mkdir templates"
      ],
      "execution_count": 0,
      "outputs": []
    },
    {
      "cell_type": "code",
      "metadata": {
        "id": "jMs0pZrljaT1",
        "colab_type": "code",
        "colab": {}
      },
      "source": [
        "export_html = \"\"\"<!doctype html>\n",
        "<html>\n",
        "    <head>\n",
        "        <title>First app</title>\n",
        "    </head>\n",
        "    <body>\n",
        "        <div>Hi, this is my first app</div>\n",
        "    </body>\n",
        "</html>\n",
        "\"\"\""
      ],
      "execution_count": 0,
      "outputs": []
    },
    {
      "cell_type": "code",
      "metadata": {
        "id": "Pgmjk-zljwxD",
        "colab_type": "code",
        "colab": {}
      },
      "source": [
        "with open(\"templates/first_app.html\", \"w\") as text_file:\n",
        "    text_file.write(export_html)"
      ],
      "execution_count": 0,
      "outputs": []
    },
    {
      "cell_type": "code",
      "metadata": {
        "id": "Op11PGicj3Oz",
        "colab_type": "code",
        "outputId": "9b310387-2983-496c-d09a-c2242551a2b3",
        "colab": {
          "base_uri": "https://localhost:8080/",
          "height": 34
        }
      },
      "source": [
        "ls templates"
      ],
      "execution_count": 0,
      "outputs": [
        {
          "output_type": "stream",
          "text": [
            "first_app.html\n"
          ],
          "name": "stdout"
        }
      ]
    },
    {
      "cell_type": "code",
      "metadata": {
        "id": "l4hRB7u-j3y4",
        "colab_type": "code",
        "colab": {}
      },
      "source": [
        ""
      ],
      "execution_count": 0,
      "outputs": []
    }
  ]
}