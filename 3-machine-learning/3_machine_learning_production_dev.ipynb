{
 "cells": [
  {
   "cell_type": "markdown",
   "metadata": {
    "colab_type": "text",
    "id": "view-in-github"
   },
   "source": [
    "<a href=\"https://colab.research.google.com/github/WittmannF/machine-learning-web-app/blob/master/3-machine-learning/3_machine_learning_production_dev.ipynb\" target=\"_parent\"><img src=\"https://colab.research.google.com/assets/colab-badge.svg\" alt=\"Open In Colab\"/></a>"
   ]
  },
  {
   "cell_type": "code",
   "execution_count": 22,
   "metadata": {
    "colab": {},
    "colab_type": "code",
    "collapsed": false,
    "id": "5sIhQHKtH0Qo"
   },
   "outputs": [],
   "source": [
    "## Imports\n",
    "import pandas as pd\n",
    "import numpy as np\n",
    "import pickle\n",
    "from sklearn.metrics import r2_score\n",
    "from lightgbm import LGBMRegressor\n",
    "from sklearn.model_selection import GridSearchCV\n",
    "from sklearn.svm import SVR\n",
    "from sklearn.ensemble import StackingRegressor"
   ]
  },
  {
   "cell_type": "code",
   "execution_count": 2,
   "metadata": {
    "colab": {},
    "colab_type": "code",
    "collapsed": true,
    "id": "-xkAoRF7IagI"
   },
   "outputs": [],
   "source": [
    "## Parameters\n",
    "URL_TREINO = 'https://raw.githubusercontent.com/WittmannF/machine-learning-web-app/master/2-preprocessamento/treino_preprocessado.csv'\n",
    "URL_TESTE = 'https://raw.githubusercontent.com/WittmannF/machine-learning-web-app/master/2-preprocessamento/teste_preprocessado.csv'\n"
   ]
  },
  {
   "cell_type": "code",
   "execution_count": 6,
   "metadata": {
    "colab": {},
    "colab_type": "code",
    "collapsed": true,
    "id": "65qyJ5fXIbrp"
   },
   "outputs": [],
   "source": [
    "## Functions\n",
    "def read_train_test():\n",
    "    treino = pd.read_csv(URL_TREINO)\n",
    "    teste = pd.read_csv(URL_TESTE)\n",
    "\n",
    "\n",
    "    X_train = treino.drop('preco', axis=1)\n",
    "    y_train = treino['preco']\n",
    "    X_test = teste.drop('preco', axis=1)\n",
    "    y_test = teste['preco']\n",
    "    return X_train, y_train, X_test, y_test"
   ]
  },
  {
   "cell_type": "code",
   "execution_count": 7,
   "metadata": {
    "colab": {},
    "colab_type": "code",
    "collapsed": true,
    "id": "lWs2DveLIeOD"
   },
   "outputs": [],
   "source": [
    "## Execution\n",
    "X_train, y_train, X_test, y_test = read_train_test()"
   ]
  },
  {
   "cell_type": "code",
   "execution_count": 9,
   "metadata": {
    "colab": {
     "base_uri": "https://localhost:8080/",
     "height": 187
    },
    "colab_type": "code",
    "collapsed": false,
    "id": "84G7kEITLQML",
    "outputId": "579819a6-c758-4b29-def9-5b65a304dccf"
   },
   "outputs": [
    {
     "data": {
      "text/plain": [
       "GridSearchCV(cv=5, error_score=nan,\n",
       "             estimator=SVR(C=1.0, cache_size=200, coef0=0.0, degree=3,\n",
       "                           epsilon=0.1, gamma='scale', kernel='rbf',\n",
       "                           max_iter=-1, shrinking=True, tol=0.001,\n",
       "                           verbose=False),\n",
       "             iid='deprecated', n_jobs=None,\n",
       "             param_grid=({'C': [1, 5, 10],\n",
       "                          'kernel': ('linear', 'poly', 'rbf')},),\n",
       "             pre_dispatch='2*n_jobs', refit=True, return_train_score=False,\n",
       "             scoring=None, verbose=0)"
      ]
     },
     "execution_count": 9,
     "metadata": {},
     "output_type": "execute_result"
    }
   ],
   "source": [
    "param = {'kernel' : ('linear', 'poly', 'rbf'),\n",
    "         'C' : [1,5,10]},\n",
    "\n",
    "svr = SVR()\n",
    "\n",
    "gs_svr = GridSearchCV(svr, \n",
    "                     param, \n",
    "                     cv=5)\n",
    "\n",
    "gs_svr.fit(X_train,y_train)"
   ]
  },
  {
   "cell_type": "code",
   "execution_count": 10,
   "metadata": {
    "colab": {
     "base_uri": "https://localhost:8080/",
     "height": 34
    },
    "colab_type": "code",
    "collapsed": false,
    "id": "l9I4i8VELXvs",
    "outputId": "13ca0f8a-99a9-432e-bbed-738980b0e4de"
   },
   "outputs": [
    {
     "data": {
      "text/plain": [
       "0.7460944176955906"
      ]
     },
     "execution_count": 10,
     "metadata": {},
     "output_type": "execute_result"
    }
   ],
   "source": [
    "gs_svr.score(X_test, y_test)"
   ]
  },
  {
   "cell_type": "code",
   "execution_count": 12,
   "metadata": {
    "colab": {
     "base_uri": "https://localhost:8080/",
     "height": 306
    },
    "colab_type": "code",
    "collapsed": false,
    "id": "HJrCw4IXLjM0",
    "outputId": "4d36d1d6-8b91-4d83-b3a6-216066be7637"
   },
   "outputs": [
    {
     "data": {
      "text/plain": [
       "GridSearchCV(cv=5, error_score=nan,\n",
       "             estimator=LGBMRegressor(boosting_type='gbdt', class_weight=None,\n",
       "                                     colsample_bytree=1.0,\n",
       "                                     importance_type='split', learning_rate=0.1,\n",
       "                                     max_depth=-1, min_child_samples=20,\n",
       "                                     min_child_weight=0.001, min_split_gain=0.0,\n",
       "                                     n_estimators=100, n_jobs=-1, num_leaves=31,\n",
       "                                     objective=None, random_state=None,\n",
       "                                     reg_alpha=0.0, reg_lambda=0.0, silent=True,\n",
       "                                     subsample=1.0, subsample_for_bin=200000,\n",
       "                                     subsample_freq=0),\n",
       "             iid='deprecated', n_jobs=None,\n",
       "             param_grid={'learning_rate': [0.01, 0.1, 1],\n",
       "                         'n_estimators': [20, 40, 100],\n",
       "                         'num_leaves': [6, 16, 31]},\n",
       "             pre_dispatch='2*n_jobs', refit=True, return_train_score=False,\n",
       "             scoring=None, verbose=0)"
      ]
     },
     "execution_count": 12,
     "metadata": {},
     "output_type": "execute_result"
    }
   ],
   "source": [
    "lgb_params = {\n",
    "    'learning_rate': [0.01, 0.1, 1],\n",
    "    'n_estimators': [20, 40, 100],\n",
    "    'num_leaves': [6, 16, 31],\n",
    "    }\n",
    "\n",
    "lgb = LGBMRegressor()\n",
    "\n",
    "gs_lgb = GridSearchCV(lgb, lgb_params, cv=5)\n",
    "gs_lgb.fit(X_train, y_train)"
   ]
  },
  {
   "cell_type": "code",
   "execution_count": 13,
   "metadata": {
    "colab": {
     "base_uri": "https://localhost:8080/",
     "height": 34
    },
    "colab_type": "code",
    "collapsed": false,
    "id": "_xCZHKGDLytl",
    "outputId": "a8324ed7-05a2-43ab-d028-65266dfd0ff8"
   },
   "outputs": [
    {
     "data": {
      "text/plain": [
       "0.7419033049737831"
      ]
     },
     "execution_count": 13,
     "metadata": {},
     "output_type": "execute_result"
    }
   ],
   "source": [
    "gs_lgb.score(X_test, y_test)"
   ]
  },
  {
   "cell_type": "code",
   "execution_count": 14,
   "metadata": {
    "colab": {},
    "colab_type": "code",
    "collapsed": true,
    "id": "i7QNKLN6L3CB"
   },
   "outputs": [],
   "source": [
    "regs = [gs_svr, gs_lgb]\n",
    "\n",
    "all_preds = []\n",
    "for reg in regs:\n",
    "    all_preds.append(reg.predict(X_test))"
   ]
  },
  {
   "cell_type": "code",
   "execution_count": 17,
   "metadata": {
    "colab": {
     "base_uri": "https://localhost:8080/",
     "height": 34
    },
    "colab_type": "code",
    "collapsed": false,
    "id": "fvSp678xMwig",
    "outputId": "ca609d87-90aa-42f7-8a56-cb641d3e8fc4"
   },
   "outputs": [
    {
     "data": {
      "text/plain": [
       "0.747158268735217"
      ]
     },
     "execution_count": 17,
     "metadata": {},
     "output_type": "execute_result"
    }
   ],
   "source": [
    "y_pred = np.mean(all_preds, axis=0)\n",
    "r2_score(y_test, y_pred)"
   ]
  },
  {
   "cell_type": "code",
   "execution_count": 19,
   "metadata": {
    "colab": {
     "base_uri": "https://localhost:8080/",
     "height": 629
    },
    "colab_type": "code",
    "collapsed": false,
    "id": "St6NRguRM1DQ",
    "outputId": "d3b0b7b4-9096-45db-d36c-ca90840f6083"
   },
   "outputs": [
    {
     "data": {
      "text/plain": [
       "StackingRegressor(cv=None,\n",
       "                  estimators=[('svr',\n",
       "                               GridSearchCV(cv=5, error_score=nan,\n",
       "                                            estimator=SVR(C=1.0, cache_size=200,\n",
       "                                                          coef0=0.0, degree=3,\n",
       "                                                          epsilon=0.1,\n",
       "                                                          gamma='scale',\n",
       "                                                          kernel='rbf',\n",
       "                                                          max_iter=-1,\n",
       "                                                          shrinking=True,\n",
       "                                                          tol=0.001,\n",
       "                                                          verbose=False),\n",
       "                                            iid='deprecated', n_jobs=None,\n",
       "                                            param_grid=({'C': [1, 5, 10],\n",
       "                                                         'kernel': ('linear',\n",
       "                                                                    'poly',\n",
       "                                                                    'rbf')},),\n",
       "                                            pre_dispatch='2*n_jobs', refit=True,...\n",
       "                                                                    reg_lambda=0.0,\n",
       "                                                                    silent=True,\n",
       "                                                                    subsample=1.0,\n",
       "                                                                    subsample_for_bin=200000,\n",
       "                                                                    subsample_freq=0),\n",
       "                                            iid='deprecated', n_jobs=None,\n",
       "                                            param_grid={'learning_rate': [0.01,\n",
       "                                                                          0.1,\n",
       "                                                                          1],\n",
       "                                                        'n_estimators': [20, 40,\n",
       "                                                                         100],\n",
       "                                                        'num_leaves': [6, 16,\n",
       "                                                                       31]},\n",
       "                                            pre_dispatch='2*n_jobs', refit=True,\n",
       "                                            return_train_score=False,\n",
       "                                            scoring=None, verbose=0))],\n",
       "                  final_estimator=None, n_jobs=None, passthrough=False,\n",
       "                  verbose=0)"
      ]
     },
     "execution_count": 19,
     "metadata": {},
     "output_type": "execute_result"
    }
   ],
   "source": [
    "estimators = [\n",
    "    ('svr', gs_svr),\n",
    "    ('lgb', gs_lgb)\n",
    "]\n",
    "reg = StackingRegressor(\n",
    "    estimators=estimators\n",
    ")\n",
    "\n",
    "reg.fit(X_train, y_train)"
   ]
  },
  {
   "cell_type": "code",
   "execution_count": 20,
   "metadata": {
    "colab": {
     "base_uri": "https://localhost:8080/",
     "height": 34
    },
    "colab_type": "code",
    "collapsed": false,
    "id": "rsXUiflVNPu4",
    "outputId": "da9a9f67-49e5-45d1-8723-99787e0e7db1"
   },
   "outputs": [
    {
     "data": {
      "text/plain": [
       "0.7473729524826145"
      ]
     },
     "execution_count": 20,
     "metadata": {},
     "output_type": "execute_result"
    }
   ],
   "source": [
    "reg.score(X_test, y_test)"
   ]
  },
  {
   "cell_type": "code",
   "execution_count": 23,
   "metadata": {
    "colab": {},
    "colab_type": "code",
    "collapsed": false,
    "id": "DAgDooR_hFTa"
   },
   "outputs": [],
   "source": [
    "# Exportar modelo\n",
    "pickle.dump(reg, open('regressor.pkl', 'wb'), protocol=4)"
   ]
  },
  {
   "cell_type": "code",
   "execution_count": 24,
   "metadata": {
    "collapsed": false
   },
   "outputs": [
    {
     "name": "stdout",
     "output_type": "stream",
     "text": [
      "3_machine_learning_brainstorming_dev.ipynb\r\n",
      "3_machine_learning_production_dev.ipynb\r\n",
      "README.md\r\n",
      "regressor.pkl\r\n"
     ]
    }
   ],
   "source": [
    "ls"
   ]
  },
  {
   "cell_type": "code",
   "execution_count": 25,
   "metadata": {
    "colab": {},
    "colab_type": "code",
    "collapsed": true,
    "id": "rF-4KhGNh0F-"
   },
   "outputs": [],
   "source": [
    "# Vamos testar se o classificador está funcionando mesmo\n",
    "# Primeiro resetar todas as variaveis\n",
    "%reset -f"
   ]
  },
  {
   "cell_type": "code",
   "execution_count": 26,
   "metadata": {
    "colab": {},
    "colab_type": "code",
    "collapsed": true,
    "id": "sgcBT5PgiBBy"
   },
   "outputs": [],
   "source": [
    "import pickle"
   ]
  },
  {
   "cell_type": "code",
   "execution_count": 27,
   "metadata": {
    "colab": {},
    "colab_type": "code",
    "collapsed": true,
    "id": "br76ZQu-inkF"
   },
   "outputs": [],
   "source": [
    "reg = pickle.load(open('regressor.pkl', 'rb'))"
   ]
  },
  {
   "cell_type": "code",
   "execution_count": 28,
   "metadata": {
    "colab": {
     "base_uri": "https://localhost:8080/",
     "height": 629
    },
    "colab_type": "code",
    "collapsed": false,
    "id": "TuVuBIpsi8mz",
    "outputId": "2713dd76-c8d1-4175-be6d-4f9078aa3d06"
   },
   "outputs": [
    {
     "data": {
      "text/plain": [
       "StackingRegressor(cv=None,\n",
       "                  estimators=[('svr',\n",
       "                               GridSearchCV(cv=5, error_score=nan,\n",
       "                                            estimator=SVR(C=1.0, cache_size=200,\n",
       "                                                          coef0=0.0, degree=3,\n",
       "                                                          epsilon=0.1,\n",
       "                                                          gamma='scale',\n",
       "                                                          kernel='rbf',\n",
       "                                                          max_iter=-1,\n",
       "                                                          shrinking=True,\n",
       "                                                          tol=0.001,\n",
       "                                                          verbose=False),\n",
       "                                            iid='deprecated', n_jobs=None,\n",
       "                                            param_grid=({'C': [1, 5, 10],\n",
       "                                                         'kernel': ('linear',\n",
       "                                                                    'poly',\n",
       "                                                                    'rbf')},),\n",
       "                                            pre_dispatch='2*n_jobs', refit=True,...\n",
       "                                                                    reg_lambda=0.0,\n",
       "                                                                    silent=True,\n",
       "                                                                    subsample=1.0,\n",
       "                                                                    subsample_for_bin=200000,\n",
       "                                                                    subsample_freq=0),\n",
       "                                            iid='deprecated', n_jobs=None,\n",
       "                                            param_grid={'learning_rate': [0.01,\n",
       "                                                                          0.1,\n",
       "                                                                          1],\n",
       "                                                        'n_estimators': [20, 40,\n",
       "                                                                         100],\n",
       "                                                        'num_leaves': [6, 16,\n",
       "                                                                       31]},\n",
       "                                            pre_dispatch='2*n_jobs', refit=True,\n",
       "                                            return_train_score=False,\n",
       "                                            scoring=None, verbose=0))],\n",
       "                  final_estimator=None, n_jobs=None, passthrough=False,\n",
       "                  verbose=0)"
      ]
     },
     "execution_count": 28,
     "metadata": {},
     "output_type": "execute_result"
    }
   ],
   "source": [
    "reg"
   ]
  },
  {
   "cell_type": "code",
   "execution_count": 29,
   "metadata": {
    "colab": {
     "base_uri": "https://localhost:8080/",
     "height": 34
    },
    "colab_type": "code",
    "collapsed": false,
    "id": "GiiEjmQojKhS",
    "outputId": "3e57f77f-4761-46f8-9331-b1e3c303c098"
   },
   "outputs": [
    {
     "data": {
      "text/plain": [
       "array([2703.32326175])"
      ]
     },
     "execution_count": 29,
     "metadata": {},
     "output_type": "execute_result"
    }
   ],
   "source": [
    "import numpy as np\n",
    "np.expm1(reg.predict([[0, 0, 1, np.log1p(2), np.log1p(120)]]))"
   ]
  },
  {
   "cell_type": "code",
   "execution_count": 0,
   "metadata": {
    "colab": {},
    "colab_type": "code",
    "collapsed": true,
    "id": "zPhKhpfxoOIv"
   },
   "outputs": [],
   "source": []
  }
 ],
 "metadata": {
  "anaconda-cloud": {},
  "colab": {
   "authorship_tag": "ABX9TyORjeT4hpbYVH1gnxxvURvv",
   "collapsed_sections": [],
   "include_colab_link": true,
   "name": "3_machine_learning_production_dev.ipynb",
   "provenance": []
  },
  "kernelspec": {
   "display_name": "Python [conda env:udacity-update]",
   "language": "python",
   "name": "conda-env-udacity-update-py"
  },
  "language_info": {
   "codemirror_mode": {
    "name": "ipython",
    "version": 3
   },
   "file_extension": ".py",
   "mimetype": "text/x-python",
   "name": "python",
   "nbconvert_exporter": "python",
   "pygments_lexer": "ipython3",
   "version": "3.7.7"
  }
 },
 "nbformat": 4,
 "nbformat_minor": 0
}
