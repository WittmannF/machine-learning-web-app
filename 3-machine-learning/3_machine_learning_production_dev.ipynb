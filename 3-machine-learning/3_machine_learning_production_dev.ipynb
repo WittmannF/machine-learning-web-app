{
  "nbformat": 4,
  "nbformat_minor": 0,
  "metadata": {
    "colab": {
      "name": "3_machine_learning_production_dev.ipynb",
      "provenance": [],
      "collapsed_sections": [],
      "authorship_tag": "ABX9TyORjeT4hpbYVH1gnxxvURvv",
      "include_colab_link": true
    },
    "kernelspec": {
      "name": "python3",
      "display_name": "Python 3"
    }
  },
  "cells": [
    {
      "cell_type": "markdown",
      "metadata": {
        "id": "view-in-github",
        "colab_type": "text"
      },
      "source": [
        "<a href=\"https://colab.research.google.com/github/WittmannF/machine-learning-web-app/blob/master/3-machine-learning/3_machine_learning_production_dev.ipynb\" target=\"_parent\"><img src=\"https://colab.research.google.com/assets/colab-badge.svg\" alt=\"Open In Colab\"/></a>"
      ]
    },
    {
      "cell_type": "code",
      "metadata": {
        "id": "5sIhQHKtH0Qo",
        "colab_type": "code",
        "colab": {}
      },
      "source": [
        "## Imports\n",
        "import pandas as pd\n",
        "import numpy as np\n",
        "import pickle\n",
        "import os\n",
        "from sklearn.model_selection import train_test_split\n",
        "from sklearn.metrics import r2_score\n",
        "from sklearn.ensemble import RandomForestRegressor\n",
        "from sklearn.linear_model import LinearRegression\n",
        "from sklearn.dummy import DummyRegressor\n",
        "from lightgbm import LGBMRegressor\n",
        "from xgboost import XGBRegressor\n",
        "from sklearn.model_selection import GridSearchCV\n",
        "from sklearn.linear_model import Ridge, Lasso, ElasticNet, LassoLars, HuberRegressor\n",
        "from sklearn.svm import SVR\n",
        "from sklearn.neighbors import KNeighborsRegressor\n",
        "from sklearn.ensemble import GradientBoostingRegressor, AdaBoostRegressor\n",
        "from sklearn.neural_network import MLPRegressor\n",
        "from sklearn.model_selection import cross_val_score, cross_val_predict\n",
        "from sklearn.ensemble import StackingRegressor"
      ],
      "execution_count": 0,
      "outputs": []
    },
    {
      "cell_type": "code",
      "metadata": {
        "id": "-xkAoRF7IagI",
        "colab_type": "code",
        "colab": {}
      },
      "source": [
        "## Parameters\n",
        "URL_TREINO = 'https://raw.githubusercontent.com/WittmannF/machine-learning-web-app/master/2-preprocessamento/treino_preprocessado.csv'\n",
        "URL_TESTE = 'https://raw.githubusercontent.com/WittmannF/machine-learning-web-app/master/2-preprocessamento/teste_preprocessado.csv'\n"
      ],
      "execution_count": 0,
      "outputs": []
    },
    {
      "cell_type": "code",
      "metadata": {
        "id": "65qyJ5fXIbrp",
        "colab_type": "code",
        "colab": {}
      },
      "source": [
        "## Functions\n",
        "def read_train_test():\n",
        "    treino = pd.read_csv(URL_TREINO)\n",
        "    teste = pd.read_csv(URL_TESTE)\n",
        "\n",
        "\n",
        "    X_train = treino.drop('preco', axis=1)\n",
        "    y_train = treino['preco']\n",
        "    X_test = teste.drop('preco', axis=1)\n",
        "    y_test = teste['preco']\n",
        "    return X_train, y_train, X_test, y_test"
      ],
      "execution_count": 0,
      "outputs": []
    },
    {
      "cell_type": "code",
      "metadata": {
        "id": "lWs2DveLIeOD",
        "colab_type": "code",
        "colab": {}
      },
      "source": [
        "## Execution\n",
        "X_train, y_train, X_test, y_test = read_train_test()"
      ],
      "execution_count": 0,
      "outputs": []
    },
    {
      "cell_type": "code",
      "metadata": {
        "id": "84G7kEITLQML",
        "colab_type": "code",
        "outputId": "579819a6-c758-4b29-def9-5b65a304dccf",
        "colab": {
          "base_uri": "https://localhost:8080/",
          "height": 187
        }
      },
      "source": [
        "param = {'kernel' : ('linear', 'poly', 'rbf'),\n",
        "         'C' : [1,5,10]},\n",
        "\n",
        "svr = SVR()\n",
        "\n",
        "gs_svr = GridSearchCV(svr, \n",
        "                     param, \n",
        "                     cv=5)\n",
        "\n",
        "gs_svr.fit(X_train,y_train)"
      ],
      "execution_count": 0,
      "outputs": [
        {
          "output_type": "execute_result",
          "data": {
            "text/plain": [
              "GridSearchCV(cv=5, error_score=nan,\n",
              "             estimator=SVR(C=1.0, cache_size=200, coef0=0.0, degree=3,\n",
              "                           epsilon=0.1, gamma='scale', kernel='rbf',\n",
              "                           max_iter=-1, shrinking=True, tol=0.001,\n",
              "                           verbose=False),\n",
              "             iid='deprecated', n_jobs=None,\n",
              "             param_grid=({'C': [1, 5, 10],\n",
              "                          'kernel': ('linear', 'poly', 'rbf')},),\n",
              "             pre_dispatch='2*n_jobs', refit=True, return_train_score=False,\n",
              "             scoring=None, verbose=0)"
            ]
          },
          "metadata": {
            "tags": []
          },
          "execution_count": 5
        }
      ]
    },
    {
      "cell_type": "code",
      "metadata": {
        "id": "l9I4i8VELXvs",
        "colab_type": "code",
        "outputId": "13ca0f8a-99a9-432e-bbed-738980b0e4de",
        "colab": {
          "base_uri": "https://localhost:8080/",
          "height": 34
        }
      },
      "source": [
        "gs_svr.score(X_test, y_test)"
      ],
      "execution_count": 0,
      "outputs": [
        {
          "output_type": "execute_result",
          "data": {
            "text/plain": [
              "0.7460944176955905"
            ]
          },
          "metadata": {
            "tags": []
          },
          "execution_count": 6
        }
      ]
    },
    {
      "cell_type": "code",
      "metadata": {
        "id": "HJrCw4IXLjM0",
        "colab_type": "code",
        "outputId": "4d36d1d6-8b91-4d83-b3a6-216066be7637",
        "colab": {
          "base_uri": "https://localhost:8080/",
          "height": 306
        }
      },
      "source": [
        "lgb_params = {\n",
        "    'learning_rate': [0.01, 0.1, 1],\n",
        "    'n_estimators': [20, 40, 100],\n",
        "    'num_leaves': [6, 16, 31],\n",
        "    }\n",
        "\n",
        "param_grid = {\n",
        "    'learning_rate': [0.01, 0.1, 1],\n",
        "    'n_estimators': [20, 40]\n",
        "}\n",
        "\n",
        "lgb = LGBMRegressor()\n",
        "\n",
        "gs_lgb = GridSearchCV(lgb, lgb_params, cv=5)\n",
        "gs_lgb.fit(X_train, y_train)"
      ],
      "execution_count": 0,
      "outputs": [
        {
          "output_type": "execute_result",
          "data": {
            "text/plain": [
              "GridSearchCV(cv=5, error_score=nan,\n",
              "             estimator=LGBMRegressor(boosting_type='gbdt', class_weight=None,\n",
              "                                     colsample_bytree=1.0,\n",
              "                                     importance_type='split', learning_rate=0.1,\n",
              "                                     max_depth=-1, min_child_samples=20,\n",
              "                                     min_child_weight=0.001, min_split_gain=0.0,\n",
              "                                     n_estimators=100, n_jobs=-1, num_leaves=31,\n",
              "                                     objective=None, random_state=None,\n",
              "                                     reg_alpha=0.0, reg_lambda=0.0, silent=True,\n",
              "                                     subsample=1.0, subsample_for_bin=200000,\n",
              "                                     subsample_freq=0),\n",
              "             iid='deprecated', n_jobs=None,\n",
              "             param_grid={'learning_rate': [0.01, 0.1, 1],\n",
              "                         'n_estimators': [20, 40, 100],\n",
              "                         'num_leaves': [6, 16, 31]},\n",
              "             pre_dispatch='2*n_jobs', refit=True, return_train_score=False,\n",
              "             scoring=None, verbose=0)"
            ]
          },
          "metadata": {
            "tags": []
          },
          "execution_count": 7
        }
      ]
    },
    {
      "cell_type": "code",
      "metadata": {
        "id": "_xCZHKGDLytl",
        "colab_type": "code",
        "outputId": "a8324ed7-05a2-43ab-d028-65266dfd0ff8",
        "colab": {
          "base_uri": "https://localhost:8080/",
          "height": 34
        }
      },
      "source": [
        "gs_lgb.score(X_test, y_test)"
      ],
      "execution_count": 0,
      "outputs": [
        {
          "output_type": "execute_result",
          "data": {
            "text/plain": [
              "0.7419033049737831"
            ]
          },
          "metadata": {
            "tags": []
          },
          "execution_count": 8
        }
      ]
    },
    {
      "cell_type": "code",
      "metadata": {
        "id": "i7QNKLN6L3CB",
        "colab_type": "code",
        "colab": {}
      },
      "source": [
        "regs = [gs_svr, gs_lgb] #SVR, LGB\n",
        "\n",
        "all_preds = []\n",
        "for reg in regs:\n",
        "    all_preds.append(reg.predict(X_test))"
      ],
      "execution_count": 0,
      "outputs": []
    },
    {
      "cell_type": "code",
      "metadata": {
        "id": "fvSp678xMwig",
        "colab_type": "code",
        "outputId": "ca609d87-90aa-42f7-8a56-cb641d3e8fc4",
        "colab": {
          "base_uri": "https://localhost:8080/",
          "height": 34
        }
      },
      "source": [
        "y_pred = np.mean(all_preds, axis=0)\n",
        "r2_score(y_test, y_pred)"
      ],
      "execution_count": 0,
      "outputs": [
        {
          "output_type": "execute_result",
          "data": {
            "text/plain": [
              "0.7471582687352167"
            ]
          },
          "metadata": {
            "tags": []
          },
          "execution_count": 10
        }
      ]
    },
    {
      "cell_type": "code",
      "metadata": {
        "id": "St6NRguRM1DQ",
        "colab_type": "code",
        "outputId": "d3b0b7b4-9096-45db-d36c-ca90840f6083",
        "colab": {
          "base_uri": "https://localhost:8080/",
          "height": 629
        }
      },
      "source": [
        "estimators = [\n",
        "    ('svr', gs_svr),\n",
        "    ('lgb', gs_lgb)\n",
        "]\n",
        "reg = StackingRegressor(\n",
        "    estimators=estimators\n",
        ")\n",
        "\n",
        "reg.fit(X_train, y_train)"
      ],
      "execution_count": 0,
      "outputs": [
        {
          "output_type": "execute_result",
          "data": {
            "text/plain": [
              "StackingRegressor(cv=None,\n",
              "                  estimators=[('svr',\n",
              "                               GridSearchCV(cv=5, error_score=nan,\n",
              "                                            estimator=SVR(C=1.0, cache_size=200,\n",
              "                                                          coef0=0.0, degree=3,\n",
              "                                                          epsilon=0.1,\n",
              "                                                          gamma='scale',\n",
              "                                                          kernel='rbf',\n",
              "                                                          max_iter=-1,\n",
              "                                                          shrinking=True,\n",
              "                                                          tol=0.001,\n",
              "                                                          verbose=False),\n",
              "                                            iid='deprecated', n_jobs=None,\n",
              "                                            param_grid=({'C': [1, 5, 10],\n",
              "                                                         'kernel': ('linear',\n",
              "                                                                    'poly',\n",
              "                                                                    'rbf')},),\n",
              "                                            pre_dispatch='2*n_jobs', refit=True,...\n",
              "                                                                    reg_lambda=0.0,\n",
              "                                                                    silent=True,\n",
              "                                                                    subsample=1.0,\n",
              "                                                                    subsample_for_bin=200000,\n",
              "                                                                    subsample_freq=0),\n",
              "                                            iid='deprecated', n_jobs=None,\n",
              "                                            param_grid={'learning_rate': [0.01,\n",
              "                                                                          0.1,\n",
              "                                                                          1],\n",
              "                                                        'n_estimators': [20, 40,\n",
              "                                                                         100],\n",
              "                                                        'num_leaves': [6, 16,\n",
              "                                                                       31]},\n",
              "                                            pre_dispatch='2*n_jobs', refit=True,\n",
              "                                            return_train_score=False,\n",
              "                                            scoring=None, verbose=0))],\n",
              "                  final_estimator=None, n_jobs=None, passthrough=False,\n",
              "                  verbose=0)"
            ]
          },
          "metadata": {
            "tags": []
          },
          "execution_count": 11
        }
      ]
    },
    {
      "cell_type": "code",
      "metadata": {
        "id": "rsXUiflVNPu4",
        "colab_type": "code",
        "outputId": "da9a9f67-49e5-45d1-8723-99787e0e7db1",
        "colab": {
          "base_uri": "https://localhost:8080/",
          "height": 34
        }
      },
      "source": [
        "reg.score(X_test, y_test)"
      ],
      "execution_count": 0,
      "outputs": [
        {
          "output_type": "execute_result",
          "data": {
            "text/plain": [
              "0.7473729524826268"
            ]
          },
          "metadata": {
            "tags": []
          },
          "execution_count": 12
        }
      ]
    },
    {
      "cell_type": "code",
      "metadata": {
        "id": "DAgDooR_hFTa",
        "colab_type": "code",
        "colab": {}
      },
      "source": [
        "# Exportar modelo\n",
        "pickle.dump(reg, open('regressor.pkl', 'wb'), protocol=4)"
      ],
      "execution_count": 0,
      "outputs": []
    },
    {
      "cell_type": "code",
      "metadata": {
        "id": "rF-4KhGNh0F-",
        "colab_type": "code",
        "colab": {}
      },
      "source": [
        "# Vamos testar se o classificador está funcionando mesmo\n",
        "# Primeiro resetar todas as variaveis\n",
        "%reset -f"
      ],
      "execution_count": 0,
      "outputs": []
    },
    {
      "cell_type": "code",
      "metadata": {
        "id": "sgcBT5PgiBBy",
        "colab_type": "code",
        "colab": {}
      },
      "source": [
        "import pickle"
      ],
      "execution_count": 0,
      "outputs": []
    },
    {
      "cell_type": "code",
      "metadata": {
        "id": "br76ZQu-inkF",
        "colab_type": "code",
        "colab": {}
      },
      "source": [
        "reg = pickle.load(open('regressor.pkl', 'rb'))"
      ],
      "execution_count": 0,
      "outputs": []
    },
    {
      "cell_type": "code",
      "metadata": {
        "id": "TuVuBIpsi8mz",
        "colab_type": "code",
        "outputId": "2713dd76-c8d1-4175-be6d-4f9078aa3d06",
        "colab": {
          "base_uri": "https://localhost:8080/",
          "height": 629
        }
      },
      "source": [
        "reg"
      ],
      "execution_count": 0,
      "outputs": [
        {
          "output_type": "execute_result",
          "data": {
            "text/plain": [
              "StackingRegressor(cv=None,\n",
              "                  estimators=[('svr',\n",
              "                               GridSearchCV(cv=5, error_score=nan,\n",
              "                                            estimator=SVR(C=1.0, cache_size=200,\n",
              "                                                          coef0=0.0, degree=3,\n",
              "                                                          epsilon=0.1,\n",
              "                                                          gamma='scale',\n",
              "                                                          kernel='rbf',\n",
              "                                                          max_iter=-1,\n",
              "                                                          shrinking=True,\n",
              "                                                          tol=0.001,\n",
              "                                                          verbose=False),\n",
              "                                            iid='deprecated', n_jobs=None,\n",
              "                                            param_grid=({'C': [1, 5, 10],\n",
              "                                                         'kernel': ('linear',\n",
              "                                                                    'poly',\n",
              "                                                                    'rbf')},),\n",
              "                                            pre_dispatch='2*n_jobs', refit=True,...\n",
              "                                                                    reg_lambda=0.0,\n",
              "                                                                    silent=True,\n",
              "                                                                    subsample=1.0,\n",
              "                                                                    subsample_for_bin=200000,\n",
              "                                                                    subsample_freq=0),\n",
              "                                            iid='deprecated', n_jobs=None,\n",
              "                                            param_grid={'learning_rate': [0.01,\n",
              "                                                                          0.1,\n",
              "                                                                          1],\n",
              "                                                        'n_estimators': [20, 40,\n",
              "                                                                         100],\n",
              "                                                        'num_leaves': [6, 16,\n",
              "                                                                       31]},\n",
              "                                            pre_dispatch='2*n_jobs', refit=True,\n",
              "                                            return_train_score=False,\n",
              "                                            scoring=None, verbose=0))],\n",
              "                  final_estimator=None, n_jobs=None, passthrough=False,\n",
              "                  verbose=0)"
            ]
          },
          "metadata": {
            "tags": []
          },
          "execution_count": 17
        }
      ]
    },
    {
      "cell_type": "code",
      "metadata": {
        "id": "GiiEjmQojKhS",
        "colab_type": "code",
        "outputId": "3e57f77f-4761-46f8-9331-b1e3c303c098",
        "colab": {
          "base_uri": "https://localhost:8080/",
          "height": 34
        }
      },
      "source": [
        "import numpy as np\n",
        "np.expm1(reg.predict([[0, 0, 1, np.log1p(2), np.log1p(120)]]))"
      ],
      "execution_count": 0,
      "outputs": [
        {
          "output_type": "execute_result",
          "data": {
            "text/plain": [
              "array([2703.32326175])"
            ]
          },
          "metadata": {
            "tags": []
          },
          "execution_count": 18
        }
      ]
    },
    {
      "cell_type": "code",
      "metadata": {
        "id": "9EDoHE33mVI-",
        "colab_type": "code",
        "outputId": "446d7008-dacd-4959-8170-051e9f8c9162",
        "colab": {
          "base_uri": "https://localhost:8080/",
          "height": 34
        }
      },
      "source": [
        "np.expm1(1.098612)"
      ],
      "execution_count": 0,
      "outputs": [
        {
          "output_type": "execute_result",
          "data": {
            "text/plain": [
              "1.9999991339957957"
            ]
          },
          "metadata": {
            "tags": []
          },
          "execution_count": 19
        }
      ]
    },
    {
      "cell_type": "code",
      "metadata": {
        "id": "w8i5VXs-mahI",
        "colab_type": "code",
        "outputId": "4c29a972-41b5-4e51-91b0-3fbda2402ddc",
        "colab": {
          "base_uri": "https://localhost:8080/",
          "height": 34
        }
      },
      "source": [
        "np.expm1(4.795791)"
      ],
      "execution_count": 0,
      "outputs": [
        {
          "output_type": "execute_result",
          "data": {
            "text/plain": [
              "120.00005498280686"
            ]
          },
          "metadata": {
            "tags": []
          },
          "execution_count": 20
        }
      ]
    },
    {
      "cell_type": "code",
      "metadata": {
        "id": "zPhKhpfxoOIv",
        "colab_type": "code",
        "colab": {}
      },
      "source": [
        ""
      ],
      "execution_count": 0,
      "outputs": []
    }
  ]
}