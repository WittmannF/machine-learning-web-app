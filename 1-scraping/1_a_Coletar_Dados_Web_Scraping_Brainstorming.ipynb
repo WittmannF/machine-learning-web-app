{
  "nbformat": 4,
  "nbformat_minor": 0,
  "metadata": {
    "colab": {
      "name": "webscrapping_mercado_livre.ipynb",
      "provenance": [],
      "include_colab_link": true
    },
    "kernelspec": {
      "name": "python3",
      "display_name": "Python 3"
    }
  },
  "cells": [
    {
      "cell_type": "markdown",
      "metadata": {
        "id": "view-in-github",
        "colab_type": "text"
      },
      "source": [
        "<a href=\"https://colab.research.google.com/github/WittmannF/machine-learning-web-app/blob/master/1-scraping/1_a_Coletar_Dados_Web_Scraping_Brainstorming.ipynb\" target=\"_parent\"><img src=\"https://colab.research.google.com/assets/colab-badge.svg\" alt=\"Open In Colab\"/></a>"
      ]
    },
    {
      "cell_type": "code",
      "metadata": {
        "id": "rDyQN9xlFLwh",
        "colab_type": "code",
        "colab": {}
      },
      "source": [
        "URL = 'https://imoveis.mercadolivre.com.br/aluguel/sao-paulo/sao-paulo-zona-leste/_Desde_49'"
      ],
      "execution_count": 1,
      "outputs": []
    },
    {
      "cell_type": "code",
      "metadata": {
        "id": "i84DVPCuFWxW",
        "colab_type": "code",
        "colab": {}
      },
      "source": [
        "import requests"
      ],
      "execution_count": 2,
      "outputs": []
    },
    {
      "cell_type": "code",
      "metadata": {
        "id": "1S0a6WtkFiUQ",
        "colab_type": "code",
        "colab": {}
      },
      "source": [
        "c = requests.get(URL).content"
      ],
      "execution_count": 3,
      "outputs": []
    },
    {
      "cell_type": "code",
      "metadata": {
        "id": "uy1F1lOpFk-6",
        "colab_type": "code",
        "colab": {
          "base_uri": "https://localhost:8080/",
          "height": 54
        },
        "outputId": "75def0e4-0024-4f56-9421-77789d7855c4"
      },
      "source": [
        "c[:1000]"
      ],
      "execution_count": 4,
      "outputs": [
        {
          "output_type": "execute_result",
          "data": {
            "text/plain": [
              "b'\\n\\n\\n\\n\\n\\n\\n\\n\\n\\n\\n\\n\\n\\n\\n\\n\\n\\n\\n\\n\\n\\n\\n\\n\\n<!doctype html>\\n<html class=\"no-js\" lang=\"pt-BR\" data-site=\"MLB\"\\n      data-country=\"BR\"\\n      data-device=\"desktop\">\\n\\n<head prefix=\"\">\\n\\t<title>Aluguel em S\\xc3\\xa3o Paulo Zona Leste no Mercado Livre Brasil\\n</title>\\n\\n\\t<link rel=\"preconnect\" href=\"//analytics.mlstatic.com\"/>\\n\\t<link rel=\"preconnect\" href=\"//resources.mlstatic.com\"/>\\n\\t<link rel=\"preconnect\" href=\"//static.mlstatic.com\"/>\\n\\t<link rel=\"preconnect\" href=\"https://www.google-analytics.com\"/>\\n\\t<link rel=\"preconnect\" href=\"https://www.google.com\"/>\\n\\t<link rel=\"preconnect\" href=\"https://data.mercadolibre.com\"/>\\n\\t<link rel=\"preconnect\" href=\"https://http2.mlstatic.com\"/>\\n\\t\\n\\t\\n\\t\\t<link rel=\"preconnect\" href=\"https://www.google.com.br\"/>\\n\\t\\n\\n\\n\\t\\n\\t\\t<link rel=\"preconnect\" href=\"https://stats.g.doubleclick.net\"/>\\n\\t\\n\\t\\n\\t\\t<link rel=\"preconnect\" href=\"//analytics.mercadolivre.com.br\"/>\\n\\t\\t<link rel=\"preconnect\" href=\"//analytics.mercadolivre.com\"/>\\n\\t\\n\\n\\t\\n\\t\\t<link rel=\"preconnect\" href=\"//mlb-s1-p.mlstatic.com\"/>\\n\\t\\t<link rel=\"pre'"
            ]
          },
          "metadata": {
            "tags": []
          },
          "execution_count": 4
        }
      ]
    },
    {
      "cell_type": "code",
      "metadata": {
        "id": "y2v-YOvZF4Su",
        "colab_type": "code",
        "colab": {}
      },
      "source": [
        "from bs4 import BeautifulSoup"
      ],
      "execution_count": 5,
      "outputs": []
    },
    {
      "cell_type": "code",
      "metadata": {
        "id": "g7l6LOjOGWvR",
        "colab_type": "code",
        "colab": {}
      },
      "source": [
        "soup = BeautifulSoup(c)"
      ],
      "execution_count": 6,
      "outputs": []
    },
    {
      "cell_type": "code",
      "metadata": {
        "id": "wi2QFvu4G39L",
        "colab_type": "code",
        "colab": {}
      },
      "source": [
        "# Documentação find_all https://www.crummy.com/software/BeautifulSoup/bs4/doc/\n",
        "results = soup.find_all('li', {'class':'results-item highlighted article grid '})"
      ],
      "execution_count": 7,
      "outputs": []
    },
    {
      "cell_type": "code",
      "metadata": {
        "id": "MhWeL-SXHT2I",
        "colab_type": "code",
        "colab": {
          "base_uri": "https://localhost:8080/",
          "height": 853
        },
        "outputId": "d9c8a10a-fb97-42c3-99b9-4430662ab0dc"
      },
      "source": [
        "for r in results:\n",
        "  print(r.text)"
      ],
      "execution_count": 8,
      "outputs": [
        {
          "output_type": "stream",
          "text": [
            "             R$ 2.900  80 m² construídos | 3 quartos   Apartamento para alugar   Avenida Celso Garcia   Avenida Celso Garcia - Tatuapé - São Paulo Zona Leste - São Paulo             \n",
            "             R$ 1.901  50 m² construídos | 2 quartos   Apartamento para alugar   Rua Visconde De Parnaíba   Rua Visconde de Parnaíba - Moóca - São Paulo Zona Leste - São Paulo             \n",
            "             R$ 1.800  70 m² construídos | 2 quartos   Apartamento para alugar   Avenida Marcondes De Brito   Avenida Marcondes de Brito - Chácara Seis de Outubro - São Paulo Zona Leste - São Paulo             \n",
            "             R$ 2.900  153 m² construídos | 2 quartos   Apartamento para alugar   Rua Bom Sucesso   Rua Bom Sucesso - Cidade Mãe Do Ceu - São Paulo Zona Leste - São Paulo             \n",
            "             R$ 1.400  72 m² construídos | 1 quarto   Apartamento para alugar   Avenida Paes De Barros   Avenida Paes de Barros - Moóca - São Paulo Zona Leste - São Paulo             \n",
            "             R$ 2.300  110 m² construídos | 2 quartos   Apartamento para alugar   Rua Jaboticabal   Rua Jaboticabal - Vila Bertioga - São Paulo Zona Leste - São Paulo             \n",
            "             R$ 2.400  73 m² construídos | 2 quartos   Apartamento para alugar   Rua Serra De Bragança   Rua Serra de Bragança - Vila Gomes Cardim - São Paulo Zona Leste - São Paulo             \n",
            "             R$ 1.750  50 m² construídos | 2 quartos   Apartamento para alugar   Rua Das Lobélias   Rua das Lobélias - Vila Bela - São Paulo Zona Leste - São Paulo             \n",
            "             R$ 2.400  110 m² construídos | 2 quartos   Apartamento para alugar   Rua Curupace   Rua Curupace - Moóca - São Paulo Zona Leste - São Paulo             \n",
            "             R$ 2.700  90 m² construídos | 2 quartos   Apartamento para alugar   Rua Carlos Silva   Rua Carlos Silva - Chácara Califórnia - São Paulo Zona Leste - São Paulo             \n",
            "             R$ 1.580  50 m² construídos | 2 quartos   Apartamento para alugar   Avenida Alberto Ramos   Avenida Alberto Ramos - Jardim Independencia - São Paulo Zona Leste - São Paulo             \n",
            "             R$ 1.500  100 m² construídos | 2 quartos   Apartamento para alugar   R. Francisco Pizarro, 359 - Parque Boturussu, São Paulo - Sp, 03801-040, Brasil   R. Francisco Pizarro, 359 - Parque Boturussu, São Paulo - Sp, 03801-040, Brasil - Parque Boturussu - São Paulo Zona Leste - São Paulo             \n",
            "             R$ 1.850  50 m² construídos | 2 quartos   Apartamento para alugar   Rua Das Lobélias   Rua das Lobélias - Vila Bela - São Paulo Zona Leste - São Paulo             \n",
            "             R$ 2.100  52 m² construídos | 2 quartos   Apartamento para alugar   Rua Honório Maia   Rua Honório Maia - Maranhão - São Paulo Zona Leste - São Paulo             \n",
            "             R$ 1.600  90 m² construídos | 2 quartos   Apartamento para alugar   Rua Afrânio   Rua Afrânio - Vila Silvia - São Paulo Zona Leste - São Paulo             \n",
            "             R$ 1.200  35 m² construídos | 2 quartos   Apartamento para alugar   Avenida Sousa Bandeira   Avenida Sousa Bandeira - Vila Nhocune - São Paulo Zona Leste - São Paulo             \n",
            "             R$ 2.000  84 m² construídos | 3 quartos   Apartamento para alugar   Rua Coronel Marques   Rua Coronel Marques - Vila Nova Manchester - São Paulo Zona Leste - São Paulo             \n",
            "             R$ 2.001  70 m² construídos | 2 quartos   Apartamento para alugar   Rua Londres   Rua Londres - Vila Londrina - São Paulo Zona Leste - São Paulo             \n",
            "             R$ 1.300  80 m² construídos | 2 quartos   Apartamento para alugar   Rua Jucupema   Rua Jucupema - Parada XV de Novembro - São Paulo Zona Leste - São Paulo             \n",
            "             R$ 1.700  41 m² construídos | 2 quartos   Apartamento para alugar   Rua Pedro De Godói   Rua Pedro de Godói - Parque da Vila Prudente - São Paulo Zona Leste - São Paulo             \n",
            "             R$ 3.500  203 m² construídos | 3 quartos   Apartamento para alugar   Rua Tamanacá   Rua Tamanacá - Vila Rui Barbosa - São Paulo Zona Leste - São Paulo             \n",
            "             R$ 2.560  260 m² construídos | 2 quartos   Apartamento para alugar   Rua Jabiaçu   Rua Jabiaçu - Vila Ivone - São Paulo Zona Leste - São Paulo             \n",
            "             R$ 3.000  67 m² construídos | 2 quartos   Apartamento para alugar   Rua Ipanema   Rua Ipanema - Moóca - São Paulo Zona Leste - São Paulo             \n",
            "             R$ 1.214  38 m² construídos | 1 quarto   Apartamento para alugar   Rua Ulisses Cruz   Rua Ulisses Cruz - Tatuapé - São Paulo Zona Leste - São Paulo             \n",
            "             R$ 1.650  58 m² construídos | 2 quartos   Apartamento para alugar   Rua Porto Alegre   Rua Porto Alegre - Vila Bertioga - São Paulo Zona Leste - São Paulo             \n",
            "             R$ 1.223  40 m² construídos | 1 quarto   Apartamento para alugar   Rua Ulisses Cruz   Rua Ulisses Cruz - Tatuapé - São Paulo Zona Leste - São Paulo             \n",
            "             R$ 750  50 m² construídos | 1 quarto   Apartamento para alugar   Rua Tenente Nilton Marcilio   Rua Tenente Nilton Marcilio - Vila Antonina - São Paulo Zona Leste - São Paulo             \n",
            "             R$ 1.460  58 m² construídos | 2 quartos   Apartamento para alugar   Rua Costa Barros   Rua Costa Barros - Sítio Pinheirinho - São Paulo Zona Leste - São Paulo             \n",
            "             R$ 900  23 m² construídos | 1 quarto   Apartamento para alugar   Avenida Dalila   Avenida Dalila - Vila Dalila - São Paulo Zona Leste - São Paulo             \n",
            "             R$ 2.200  60 m² construídos | 2 quartos   Apartamento para alugar   Rua José Dos Reis   Rua José dos Reis - Parque da Vila Prudente - São Paulo Zona Leste - São Paulo             \n",
            "             R$ 1.200  25 m² construídos | 1 quarto   Apartamento para alugar   Rua Belém   Rua Belém - Belenzinho - São Paulo Zona Leste - São Paulo             \n",
            "             R$ 600  30 m² construídos | 1 quarto   Apartamento para alugar   Rua Vicente Serra   Rua Vicente Serra - Vila Antonieta - São Paulo Zona Leste - São Paulo             \n",
            "             R$ 690  40 m² construídos | 1 quarto   Apartamento para alugar   R Bento Do Amaral Da Silva   R Bento do Amaral da Silva - Parque São Rafael - São Paulo Zona Leste - São Paulo             \n",
            "             R$ 690  40 m² construídos | 1 quarto   Apartamento para alugar   R Bento Do Amaral Da Silva   R Bento do Amaral da Silva - Parque São Rafael - São Paulo Zona Leste - São Paulo             \n",
            "             R$ 1.500  40 m² construídos   Sala comercial para alugar     Chácara Tatuapé - São Paulo Zona Leste - São Paulo             \n",
            "             R$ 550  32 m² construídos | 1 quarto   Casa para alugar   Principe Do Grão Para 134   Principe Do Grão Para 134 - Itaquera - São Paulo Zona Leste - São Paulo             \n",
            "             R$ 1.000  56 m² construídos | 1 quarto   Casa para alugar   Rua Quixadá, 00   Rua Quixadá, 00 - Vila Invernada - São Paulo Zona Leste - São Paulo             \n",
            "             R$ 2.000  130 m² construídos | 3 quartos   Casa para alugar   Rua Palma Sola   Rua Palma Sola - Itaquera - São Paulo Zona Leste - São Paulo             \n",
            "             R$ 700  32 m² construídos   Outro imóvel para alugar   Rua Dario Pozzo   Rua Dario Pozzo - Conjunto Residencial José Bonifácio - São Paulo Zona Leste - São Paulo             \n",
            "             R$ 900  70 m² construídos | 1 quarto   Casa para alugar   Rua Peixes   Rua Peixes - Jardim Vila Carrão - São Paulo Zona Leste - São Paulo             \n",
            "             R$ 299  6 m² construídos | 1 quarto   Flat e apart hotel para alugar   Amador Bueno Da Veiga 282   Amador Bueno da Veiga 282 - Penha De Franca - São Paulo Zona Leste - São Paulo             \n",
            "             R$ 1.250  50 m² construídos | 1 quarto   Casa para alugar   Rua Ituverava 652   Rua Ituverava 652 - Vila Prudente - São Paulo Zona Leste - São Paulo             \n",
            "             R$ 1.600  158 m² construídos | 3 quartos   Apartamento para alugar     Chácara Tatuapé - São Paulo Zona Leste - São Paulo             \n",
            "             R$ 2.600  140 m² construídos | 3 quartos   Casa para alugar     Jardim Avelino - São Paulo Zona Leste - São Paulo             \n",
            "             R$ 1.208  47 m² construídos | 2 quartos   Casa para alugar   Agrimensor Sugaya 1437   Agrimensor sugaya 1437 - Itaquera - São Paulo Zona Leste - São Paulo             \n",
            "             R$ 3.000  262 m² totais   Terreno para alugar     Vila Prudente - São Paulo Zona Leste - São Paulo             \n",
            "             R$ 5.000  200 m² construídos   Casa para alugar     Parque da Vila Prudente - São Paulo Zona Leste - São Paulo             \n",
            "             R$ 2.500  90 m² construídos   Loja comercial para alugar   Tatuape   TATUAPE - Tatuapé - São Paulo Zona Leste - São Paulo             \n"
          ],
          "name": "stdout"
        }
      ]
    },
    {
      "cell_type": "code",
      "metadata": {
        "id": "ngvUmms1JqU-",
        "colab_type": "code",
        "colab": {
          "base_uri": "https://localhost:8080/",
          "height": 52
        },
        "outputId": "2f708493-3ce6-47a3-a182-c2c81c0b86a7"
      },
      "source": [
        "r.text"
      ],
      "execution_count": 9,
      "outputs": [
        {
          "output_type": "execute_result",
          "data": {
            "application/vnd.google.colaboratory.intrinsic+json": {
              "type": "string"
            },
            "text/plain": [
              "'             R$ 2.500  90 m² construídos   Loja comercial\\xa0para alugar   Tatuape   TATUAPE - Tatuapé - São Paulo Zona Leste - São Paulo             '"
            ]
          },
          "metadata": {
            "tags": []
          },
          "execution_count": 9
        }
      ]
    },
    {
      "cell_type": "code",
      "metadata": {
        "id": "mz3Xm7baLBFU",
        "colab_type": "code",
        "colab": {}
      },
      "source": [
        "import re\n",
        "RE_QUARTO = '\\| (.*) quarto'\n",
        "RE_PRECO_M2 = 'R\\$ (.*) (.*) m²'"
      ],
      "execution_count": 10,
      "outputs": []
    },
    {
      "cell_type": "code",
      "metadata": {
        "id": "4rAAAsfXSeeB",
        "colab_type": "code",
        "colab": {
          "base_uri": "https://localhost:8080/",
          "height": 1000
        },
        "outputId": "7373e28f-6d12-4f45-8b15-aa992536f4f7"
      },
      "source": [
        "for r in results:\n",
        "  print('='*80)\n",
        "  print(r.text)\n",
        "  preco, area = re.findall(RE_PRECO_M2, r.text)[0]\n",
        "  print(preco)\n",
        "  print(area)"
      ],
      "execution_count": 11,
      "outputs": [
        {
          "output_type": "stream",
          "text": [
            "================================================================================\n",
            "             R$ 2.900  80 m² construídos | 3 quartos   Apartamento para alugar   Avenida Celso Garcia   Avenida Celso Garcia - Tatuapé - São Paulo Zona Leste - São Paulo             \n",
            "2.900 \n",
            "80\n",
            "================================================================================\n",
            "             R$ 1.901  50 m² construídos | 2 quartos   Apartamento para alugar   Rua Visconde De Parnaíba   Rua Visconde de Parnaíba - Moóca - São Paulo Zona Leste - São Paulo             \n",
            "1.901 \n",
            "50\n",
            "================================================================================\n",
            "             R$ 1.800  70 m² construídos | 2 quartos   Apartamento para alugar   Avenida Marcondes De Brito   Avenida Marcondes de Brito - Chácara Seis de Outubro - São Paulo Zona Leste - São Paulo             \n",
            "1.800 \n",
            "70\n",
            "================================================================================\n",
            "             R$ 2.900  153 m² construídos | 2 quartos   Apartamento para alugar   Rua Bom Sucesso   Rua Bom Sucesso - Cidade Mãe Do Ceu - São Paulo Zona Leste - São Paulo             \n",
            "2.900 \n",
            "153\n",
            "================================================================================\n",
            "             R$ 1.400  72 m² construídos | 1 quarto   Apartamento para alugar   Avenida Paes De Barros   Avenida Paes de Barros - Moóca - São Paulo Zona Leste - São Paulo             \n",
            "1.400 \n",
            "72\n",
            "================================================================================\n",
            "             R$ 2.300  110 m² construídos | 2 quartos   Apartamento para alugar   Rua Jaboticabal   Rua Jaboticabal - Vila Bertioga - São Paulo Zona Leste - São Paulo             \n",
            "2.300 \n",
            "110\n",
            "================================================================================\n",
            "             R$ 2.400  73 m² construídos | 2 quartos   Apartamento para alugar   Rua Serra De Bragança   Rua Serra de Bragança - Vila Gomes Cardim - São Paulo Zona Leste - São Paulo             \n",
            "2.400 \n",
            "73\n",
            "================================================================================\n",
            "             R$ 1.750  50 m² construídos | 2 quartos   Apartamento para alugar   Rua Das Lobélias   Rua das Lobélias - Vila Bela - São Paulo Zona Leste - São Paulo             \n",
            "1.750 \n",
            "50\n",
            "================================================================================\n",
            "             R$ 2.400  110 m² construídos | 2 quartos   Apartamento para alugar   Rua Curupace   Rua Curupace - Moóca - São Paulo Zona Leste - São Paulo             \n",
            "2.400 \n",
            "110\n",
            "================================================================================\n",
            "             R$ 2.700  90 m² construídos | 2 quartos   Apartamento para alugar   Rua Carlos Silva   Rua Carlos Silva - Chácara Califórnia - São Paulo Zona Leste - São Paulo             \n",
            "2.700 \n",
            "90\n",
            "================================================================================\n",
            "             R$ 1.580  50 m² construídos | 2 quartos   Apartamento para alugar   Avenida Alberto Ramos   Avenida Alberto Ramos - Jardim Independencia - São Paulo Zona Leste - São Paulo             \n",
            "1.580 \n",
            "50\n",
            "================================================================================\n",
            "             R$ 1.500  100 m² construídos | 2 quartos   Apartamento para alugar   R. Francisco Pizarro, 359 - Parque Boturussu, São Paulo - Sp, 03801-040, Brasil   R. Francisco Pizarro, 359 - Parque Boturussu, São Paulo - Sp, 03801-040, Brasil - Parque Boturussu - São Paulo Zona Leste - São Paulo             \n",
            "1.500 \n",
            "100\n",
            "================================================================================\n",
            "             R$ 1.850  50 m² construídos | 2 quartos   Apartamento para alugar   Rua Das Lobélias   Rua das Lobélias - Vila Bela - São Paulo Zona Leste - São Paulo             \n",
            "1.850 \n",
            "50\n",
            "================================================================================\n",
            "             R$ 2.100  52 m² construídos | 2 quartos   Apartamento para alugar   Rua Honório Maia   Rua Honório Maia - Maranhão - São Paulo Zona Leste - São Paulo             \n",
            "2.100 \n",
            "52\n",
            "================================================================================\n",
            "             R$ 1.600  90 m² construídos | 2 quartos   Apartamento para alugar   Rua Afrânio   Rua Afrânio - Vila Silvia - São Paulo Zona Leste - São Paulo             \n",
            "1.600 \n",
            "90\n",
            "================================================================================\n",
            "             R$ 1.200  35 m² construídos | 2 quartos   Apartamento para alugar   Avenida Sousa Bandeira   Avenida Sousa Bandeira - Vila Nhocune - São Paulo Zona Leste - São Paulo             \n",
            "1.200 \n",
            "35\n",
            "================================================================================\n",
            "             R$ 2.000  84 m² construídos | 3 quartos   Apartamento para alugar   Rua Coronel Marques   Rua Coronel Marques - Vila Nova Manchester - São Paulo Zona Leste - São Paulo             \n",
            "2.000 \n",
            "84\n",
            "================================================================================\n",
            "             R$ 2.001  70 m² construídos | 2 quartos   Apartamento para alugar   Rua Londres   Rua Londres - Vila Londrina - São Paulo Zona Leste - São Paulo             \n",
            "2.001 \n",
            "70\n",
            "================================================================================\n",
            "             R$ 1.300  80 m² construídos | 2 quartos   Apartamento para alugar   Rua Jucupema   Rua Jucupema - Parada XV de Novembro - São Paulo Zona Leste - São Paulo             \n",
            "1.300 \n",
            "80\n",
            "================================================================================\n",
            "             R$ 1.700  41 m² construídos | 2 quartos   Apartamento para alugar   Rua Pedro De Godói   Rua Pedro de Godói - Parque da Vila Prudente - São Paulo Zona Leste - São Paulo             \n",
            "1.700 \n",
            "41\n",
            "================================================================================\n",
            "             R$ 3.500  203 m² construídos | 3 quartos   Apartamento para alugar   Rua Tamanacá   Rua Tamanacá - Vila Rui Barbosa - São Paulo Zona Leste - São Paulo             \n",
            "3.500 \n",
            "203\n",
            "================================================================================\n",
            "             R$ 2.560  260 m² construídos | 2 quartos   Apartamento para alugar   Rua Jabiaçu   Rua Jabiaçu - Vila Ivone - São Paulo Zona Leste - São Paulo             \n",
            "2.560 \n",
            "260\n",
            "================================================================================\n",
            "             R$ 3.000  67 m² construídos | 2 quartos   Apartamento para alugar   Rua Ipanema   Rua Ipanema - Moóca - São Paulo Zona Leste - São Paulo             \n",
            "3.000 \n",
            "67\n",
            "================================================================================\n",
            "             R$ 1.214  38 m² construídos | 1 quarto   Apartamento para alugar   Rua Ulisses Cruz   Rua Ulisses Cruz - Tatuapé - São Paulo Zona Leste - São Paulo             \n",
            "1.214 \n",
            "38\n",
            "================================================================================\n",
            "             R$ 1.650  58 m² construídos | 2 quartos   Apartamento para alugar   Rua Porto Alegre   Rua Porto Alegre - Vila Bertioga - São Paulo Zona Leste - São Paulo             \n",
            "1.650 \n",
            "58\n",
            "================================================================================\n",
            "             R$ 1.223  40 m² construídos | 1 quarto   Apartamento para alugar   Rua Ulisses Cruz   Rua Ulisses Cruz - Tatuapé - São Paulo Zona Leste - São Paulo             \n",
            "1.223 \n",
            "40\n",
            "================================================================================\n",
            "             R$ 750  50 m² construídos | 1 quarto   Apartamento para alugar   Rua Tenente Nilton Marcilio   Rua Tenente Nilton Marcilio - Vila Antonina - São Paulo Zona Leste - São Paulo             \n",
            "750 \n",
            "50\n",
            "================================================================================\n",
            "             R$ 1.460  58 m² construídos | 2 quartos   Apartamento para alugar   Rua Costa Barros   Rua Costa Barros - Sítio Pinheirinho - São Paulo Zona Leste - São Paulo             \n",
            "1.460 \n",
            "58\n",
            "================================================================================\n",
            "             R$ 900  23 m² construídos | 1 quarto   Apartamento para alugar   Avenida Dalila   Avenida Dalila - Vila Dalila - São Paulo Zona Leste - São Paulo             \n",
            "900 \n",
            "23\n",
            "================================================================================\n",
            "             R$ 2.200  60 m² construídos | 2 quartos   Apartamento para alugar   Rua José Dos Reis   Rua José dos Reis - Parque da Vila Prudente - São Paulo Zona Leste - São Paulo             \n",
            "2.200 \n",
            "60\n",
            "================================================================================\n",
            "             R$ 1.200  25 m² construídos | 1 quarto   Apartamento para alugar   Rua Belém   Rua Belém - Belenzinho - São Paulo Zona Leste - São Paulo             \n",
            "1.200 \n",
            "25\n",
            "================================================================================\n",
            "             R$ 600  30 m² construídos | 1 quarto   Apartamento para alugar   Rua Vicente Serra   Rua Vicente Serra - Vila Antonieta - São Paulo Zona Leste - São Paulo             \n",
            "600 \n",
            "30\n",
            "================================================================================\n",
            "             R$ 690  40 m² construídos | 1 quarto   Apartamento para alugar   R Bento Do Amaral Da Silva   R Bento do Amaral da Silva - Parque São Rafael - São Paulo Zona Leste - São Paulo             \n",
            "690 \n",
            "40\n",
            "================================================================================\n",
            "             R$ 690  40 m² construídos | 1 quarto   Apartamento para alugar   R Bento Do Amaral Da Silva   R Bento do Amaral da Silva - Parque São Rafael - São Paulo Zona Leste - São Paulo             \n",
            "690 \n",
            "40\n",
            "================================================================================\n",
            "             R$ 1.500  40 m² construídos   Sala comercial para alugar     Chácara Tatuapé - São Paulo Zona Leste - São Paulo             \n",
            "1.500 \n",
            "40\n",
            "================================================================================\n",
            "             R$ 550  32 m² construídos | 1 quarto   Casa para alugar   Principe Do Grão Para 134   Principe Do Grão Para 134 - Itaquera - São Paulo Zona Leste - São Paulo             \n",
            "550 \n",
            "32\n",
            "================================================================================\n",
            "             R$ 1.000  56 m² construídos | 1 quarto   Casa para alugar   Rua Quixadá, 00   Rua Quixadá, 00 - Vila Invernada - São Paulo Zona Leste - São Paulo             \n",
            "1.000 \n",
            "56\n",
            "================================================================================\n",
            "             R$ 2.000  130 m² construídos | 3 quartos   Casa para alugar   Rua Palma Sola   Rua Palma Sola - Itaquera - São Paulo Zona Leste - São Paulo             \n",
            "2.000 \n",
            "130\n",
            "================================================================================\n",
            "             R$ 700  32 m² construídos   Outro imóvel para alugar   Rua Dario Pozzo   Rua Dario Pozzo - Conjunto Residencial José Bonifácio - São Paulo Zona Leste - São Paulo             \n",
            "700 \n",
            "32\n",
            "================================================================================\n",
            "             R$ 900  70 m² construídos | 1 quarto   Casa para alugar   Rua Peixes   Rua Peixes - Jardim Vila Carrão - São Paulo Zona Leste - São Paulo             \n",
            "900 \n",
            "70\n",
            "================================================================================\n",
            "             R$ 299  6 m² construídos | 1 quarto   Flat e apart hotel para alugar   Amador Bueno Da Veiga 282   Amador Bueno da Veiga 282 - Penha De Franca - São Paulo Zona Leste - São Paulo             \n",
            "299 \n",
            "6\n",
            "================================================================================\n",
            "             R$ 1.250  50 m² construídos | 1 quarto   Casa para alugar   Rua Ituverava 652   Rua Ituverava 652 - Vila Prudente - São Paulo Zona Leste - São Paulo             \n",
            "1.250 \n",
            "50\n",
            "================================================================================\n",
            "             R$ 1.600  158 m² construídos | 3 quartos   Apartamento para alugar     Chácara Tatuapé - São Paulo Zona Leste - São Paulo             \n",
            "1.600 \n",
            "158\n",
            "================================================================================\n",
            "             R$ 2.600  140 m² construídos | 3 quartos   Casa para alugar     Jardim Avelino - São Paulo Zona Leste - São Paulo             \n",
            "2.600 \n",
            "140\n",
            "================================================================================\n",
            "             R$ 1.208  47 m² construídos | 2 quartos   Casa para alugar   Agrimensor Sugaya 1437   Agrimensor sugaya 1437 - Itaquera - São Paulo Zona Leste - São Paulo             \n",
            "1.208 \n",
            "47\n",
            "================================================================================\n",
            "             R$ 3.000  262 m² totais   Terreno para alugar     Vila Prudente - São Paulo Zona Leste - São Paulo             \n",
            "3.000 \n",
            "262\n",
            "================================================================================\n",
            "             R$ 5.000  200 m² construídos   Casa para alugar     Parque da Vila Prudente - São Paulo Zona Leste - São Paulo             \n",
            "5.000 \n",
            "200\n",
            "================================================================================\n",
            "             R$ 2.500  90 m² construídos   Loja comercial para alugar   Tatuape   TATUAPE - Tatuapé - São Paulo Zona Leste - São Paulo             \n",
            "2.500 \n",
            "90\n"
          ],
          "name": "stdout"
        }
      ]
    },
    {
      "cell_type": "code",
      "metadata": {
        "id": "6TS1qIHUSeQi",
        "colab_type": "code",
        "colab": {
          "base_uri": "https://localhost:8080/",
          "height": 1000
        },
        "outputId": "fb379112-e3ce-4862-b589-90aca3c3f73c"
      },
      "source": [
        "for r in results:\n",
        "  print('='*80)\n",
        "  print(r.text)\n",
        "  n_quartos = re.findall(RE_QUARTO, r.text)\n",
        "  if n_quartos==[]:\n",
        "    n_quartos = 'NaN'\n",
        "  else:\n",
        "    n_quartos = n_quartos[0]\n",
        "  print(n_quartos)"
      ],
      "execution_count": 12,
      "outputs": [
        {
          "output_type": "stream",
          "text": [
            "================================================================================\n",
            "             R$ 2.900  80 m² construídos | 3 quartos   Apartamento para alugar   Avenida Celso Garcia   Avenida Celso Garcia - Tatuapé - São Paulo Zona Leste - São Paulo             \n",
            "3\n",
            "================================================================================\n",
            "             R$ 1.901  50 m² construídos | 2 quartos   Apartamento para alugar   Rua Visconde De Parnaíba   Rua Visconde de Parnaíba - Moóca - São Paulo Zona Leste - São Paulo             \n",
            "2\n",
            "================================================================================\n",
            "             R$ 1.800  70 m² construídos | 2 quartos   Apartamento para alugar   Avenida Marcondes De Brito   Avenida Marcondes de Brito - Chácara Seis de Outubro - São Paulo Zona Leste - São Paulo             \n",
            "2\n",
            "================================================================================\n",
            "             R$ 2.900  153 m² construídos | 2 quartos   Apartamento para alugar   Rua Bom Sucesso   Rua Bom Sucesso - Cidade Mãe Do Ceu - São Paulo Zona Leste - São Paulo             \n",
            "2\n",
            "================================================================================\n",
            "             R$ 1.400  72 m² construídos | 1 quarto   Apartamento para alugar   Avenida Paes De Barros   Avenida Paes de Barros - Moóca - São Paulo Zona Leste - São Paulo             \n",
            "1\n",
            "================================================================================\n",
            "             R$ 2.300  110 m² construídos | 2 quartos   Apartamento para alugar   Rua Jaboticabal   Rua Jaboticabal - Vila Bertioga - São Paulo Zona Leste - São Paulo             \n",
            "2\n",
            "================================================================================\n",
            "             R$ 2.400  73 m² construídos | 2 quartos   Apartamento para alugar   Rua Serra De Bragança   Rua Serra de Bragança - Vila Gomes Cardim - São Paulo Zona Leste - São Paulo             \n",
            "2\n",
            "================================================================================\n",
            "             R$ 1.750  50 m² construídos | 2 quartos   Apartamento para alugar   Rua Das Lobélias   Rua das Lobélias - Vila Bela - São Paulo Zona Leste - São Paulo             \n",
            "2\n",
            "================================================================================\n",
            "             R$ 2.400  110 m² construídos | 2 quartos   Apartamento para alugar   Rua Curupace   Rua Curupace - Moóca - São Paulo Zona Leste - São Paulo             \n",
            "2\n",
            "================================================================================\n",
            "             R$ 2.700  90 m² construídos | 2 quartos   Apartamento para alugar   Rua Carlos Silva   Rua Carlos Silva - Chácara Califórnia - São Paulo Zona Leste - São Paulo             \n",
            "2\n",
            "================================================================================\n",
            "             R$ 1.580  50 m² construídos | 2 quartos   Apartamento para alugar   Avenida Alberto Ramos   Avenida Alberto Ramos - Jardim Independencia - São Paulo Zona Leste - São Paulo             \n",
            "2\n",
            "================================================================================\n",
            "             R$ 1.500  100 m² construídos | 2 quartos   Apartamento para alugar   R. Francisco Pizarro, 359 - Parque Boturussu, São Paulo - Sp, 03801-040, Brasil   R. Francisco Pizarro, 359 - Parque Boturussu, São Paulo - Sp, 03801-040, Brasil - Parque Boturussu - São Paulo Zona Leste - São Paulo             \n",
            "2\n",
            "================================================================================\n",
            "             R$ 1.850  50 m² construídos | 2 quartos   Apartamento para alugar   Rua Das Lobélias   Rua das Lobélias - Vila Bela - São Paulo Zona Leste - São Paulo             \n",
            "2\n",
            "================================================================================\n",
            "             R$ 2.100  52 m² construídos | 2 quartos   Apartamento para alugar   Rua Honório Maia   Rua Honório Maia - Maranhão - São Paulo Zona Leste - São Paulo             \n",
            "2\n",
            "================================================================================\n",
            "             R$ 1.600  90 m² construídos | 2 quartos   Apartamento para alugar   Rua Afrânio   Rua Afrânio - Vila Silvia - São Paulo Zona Leste - São Paulo             \n",
            "2\n",
            "================================================================================\n",
            "             R$ 1.200  35 m² construídos | 2 quartos   Apartamento para alugar   Avenida Sousa Bandeira   Avenida Sousa Bandeira - Vila Nhocune - São Paulo Zona Leste - São Paulo             \n",
            "2\n",
            "================================================================================\n",
            "             R$ 2.000  84 m² construídos | 3 quartos   Apartamento para alugar   Rua Coronel Marques   Rua Coronel Marques - Vila Nova Manchester - São Paulo Zona Leste - São Paulo             \n",
            "3\n",
            "================================================================================\n",
            "             R$ 2.001  70 m² construídos | 2 quartos   Apartamento para alugar   Rua Londres   Rua Londres - Vila Londrina - São Paulo Zona Leste - São Paulo             \n",
            "2\n",
            "================================================================================\n",
            "             R$ 1.300  80 m² construídos | 2 quartos   Apartamento para alugar   Rua Jucupema   Rua Jucupema - Parada XV de Novembro - São Paulo Zona Leste - São Paulo             \n",
            "2\n",
            "================================================================================\n",
            "             R$ 1.700  41 m² construídos | 2 quartos   Apartamento para alugar   Rua Pedro De Godói   Rua Pedro de Godói - Parque da Vila Prudente - São Paulo Zona Leste - São Paulo             \n",
            "2\n",
            "================================================================================\n",
            "             R$ 3.500  203 m² construídos | 3 quartos   Apartamento para alugar   Rua Tamanacá   Rua Tamanacá - Vila Rui Barbosa - São Paulo Zona Leste - São Paulo             \n",
            "3\n",
            "================================================================================\n",
            "             R$ 2.560  260 m² construídos | 2 quartos   Apartamento para alugar   Rua Jabiaçu   Rua Jabiaçu - Vila Ivone - São Paulo Zona Leste - São Paulo             \n",
            "2\n",
            "================================================================================\n",
            "             R$ 3.000  67 m² construídos | 2 quartos   Apartamento para alugar   Rua Ipanema   Rua Ipanema - Moóca - São Paulo Zona Leste - São Paulo             \n",
            "2\n",
            "================================================================================\n",
            "             R$ 1.214  38 m² construídos | 1 quarto   Apartamento para alugar   Rua Ulisses Cruz   Rua Ulisses Cruz - Tatuapé - São Paulo Zona Leste - São Paulo             \n",
            "1\n",
            "================================================================================\n",
            "             R$ 1.650  58 m² construídos | 2 quartos   Apartamento para alugar   Rua Porto Alegre   Rua Porto Alegre - Vila Bertioga - São Paulo Zona Leste - São Paulo             \n",
            "2\n",
            "================================================================================\n",
            "             R$ 1.223  40 m² construídos | 1 quarto   Apartamento para alugar   Rua Ulisses Cruz   Rua Ulisses Cruz - Tatuapé - São Paulo Zona Leste - São Paulo             \n",
            "1\n",
            "================================================================================\n",
            "             R$ 750  50 m² construídos | 1 quarto   Apartamento para alugar   Rua Tenente Nilton Marcilio   Rua Tenente Nilton Marcilio - Vila Antonina - São Paulo Zona Leste - São Paulo             \n",
            "1\n",
            "================================================================================\n",
            "             R$ 1.460  58 m² construídos | 2 quartos   Apartamento para alugar   Rua Costa Barros   Rua Costa Barros - Sítio Pinheirinho - São Paulo Zona Leste - São Paulo             \n",
            "2\n",
            "================================================================================\n",
            "             R$ 900  23 m² construídos | 1 quarto   Apartamento para alugar   Avenida Dalila   Avenida Dalila - Vila Dalila - São Paulo Zona Leste - São Paulo             \n",
            "1\n",
            "================================================================================\n",
            "             R$ 2.200  60 m² construídos | 2 quartos   Apartamento para alugar   Rua José Dos Reis   Rua José dos Reis - Parque da Vila Prudente - São Paulo Zona Leste - São Paulo             \n",
            "2\n",
            "================================================================================\n",
            "             R$ 1.200  25 m² construídos | 1 quarto   Apartamento para alugar   Rua Belém   Rua Belém - Belenzinho - São Paulo Zona Leste - São Paulo             \n",
            "1\n",
            "================================================================================\n",
            "             R$ 600  30 m² construídos | 1 quarto   Apartamento para alugar   Rua Vicente Serra   Rua Vicente Serra - Vila Antonieta - São Paulo Zona Leste - São Paulo             \n",
            "1\n",
            "================================================================================\n",
            "             R$ 690  40 m² construídos | 1 quarto   Apartamento para alugar   R Bento Do Amaral Da Silva   R Bento do Amaral da Silva - Parque São Rafael - São Paulo Zona Leste - São Paulo             \n",
            "1\n",
            "================================================================================\n",
            "             R$ 690  40 m² construídos | 1 quarto   Apartamento para alugar   R Bento Do Amaral Da Silva   R Bento do Amaral da Silva - Parque São Rafael - São Paulo Zona Leste - São Paulo             \n",
            "1\n",
            "================================================================================\n",
            "             R$ 1.500  40 m² construídos   Sala comercial para alugar     Chácara Tatuapé - São Paulo Zona Leste - São Paulo             \n",
            "NaN\n",
            "================================================================================\n",
            "             R$ 550  32 m² construídos | 1 quarto   Casa para alugar   Principe Do Grão Para 134   Principe Do Grão Para 134 - Itaquera - São Paulo Zona Leste - São Paulo             \n",
            "1\n",
            "================================================================================\n",
            "             R$ 1.000  56 m² construídos | 1 quarto   Casa para alugar   Rua Quixadá, 00   Rua Quixadá, 00 - Vila Invernada - São Paulo Zona Leste - São Paulo             \n",
            "1\n",
            "================================================================================\n",
            "             R$ 2.000  130 m² construídos | 3 quartos   Casa para alugar   Rua Palma Sola   Rua Palma Sola - Itaquera - São Paulo Zona Leste - São Paulo             \n",
            "3\n",
            "================================================================================\n",
            "             R$ 700  32 m² construídos   Outro imóvel para alugar   Rua Dario Pozzo   Rua Dario Pozzo - Conjunto Residencial José Bonifácio - São Paulo Zona Leste - São Paulo             \n",
            "NaN\n",
            "================================================================================\n",
            "             R$ 900  70 m² construídos | 1 quarto   Casa para alugar   Rua Peixes   Rua Peixes - Jardim Vila Carrão - São Paulo Zona Leste - São Paulo             \n",
            "1\n",
            "================================================================================\n",
            "             R$ 299  6 m² construídos | 1 quarto   Flat e apart hotel para alugar   Amador Bueno Da Veiga 282   Amador Bueno da Veiga 282 - Penha De Franca - São Paulo Zona Leste - São Paulo             \n",
            "1\n",
            "================================================================================\n",
            "             R$ 1.250  50 m² construídos | 1 quarto   Casa para alugar   Rua Ituverava 652   Rua Ituverava 652 - Vila Prudente - São Paulo Zona Leste - São Paulo             \n",
            "1\n",
            "================================================================================\n",
            "             R$ 1.600  158 m² construídos | 3 quartos   Apartamento para alugar     Chácara Tatuapé - São Paulo Zona Leste - São Paulo             \n",
            "3\n",
            "================================================================================\n",
            "             R$ 2.600  140 m² construídos | 3 quartos   Casa para alugar     Jardim Avelino - São Paulo Zona Leste - São Paulo             \n",
            "3\n",
            "================================================================================\n",
            "             R$ 1.208  47 m² construídos | 2 quartos   Casa para alugar   Agrimensor Sugaya 1437   Agrimensor sugaya 1437 - Itaquera - São Paulo Zona Leste - São Paulo             \n",
            "2\n",
            "================================================================================\n",
            "             R$ 3.000  262 m² totais   Terreno para alugar     Vila Prudente - São Paulo Zona Leste - São Paulo             \n",
            "NaN\n",
            "================================================================================\n",
            "             R$ 5.000  200 m² construídos   Casa para alugar     Parque da Vila Prudente - São Paulo Zona Leste - São Paulo             \n",
            "NaN\n",
            "================================================================================\n",
            "             R$ 2.500  90 m² construídos   Loja comercial para alugar   Tatuape   TATUAPE - Tatuapé - São Paulo Zona Leste - São Paulo             \n",
            "NaN\n"
          ],
          "name": "stdout"
        }
      ]
    },
    {
      "cell_type": "code",
      "metadata": {
        "id": "zxyUmDsVS1BT",
        "colab_type": "code",
        "colab": {
          "base_uri": "https://localhost:8080/",
          "height": 34
        },
        "outputId": "72563850-864a-40c0-c0bb-dd9924fdf078"
      },
      "source": [
        "\n",
        "print(n_quartos)\n",
        "  "
      ],
      "execution_count": 13,
      "outputs": [
        {
          "output_type": "stream",
          "text": [
            "NaN\n"
          ],
          "name": "stdout"
        }
      ]
    },
    {
      "cell_type": "code",
      "metadata": {
        "id": "hl4Lym7oS8W8",
        "colab_type": "code",
        "colab": {
          "base_uri": "https://localhost:8080/",
          "height": 52
        },
        "outputId": "fb0923a5-8986-4ecc-c1ed-ff000fa1d40a"
      },
      "source": [
        "r.text"
      ],
      "execution_count": 14,
      "outputs": [
        {
          "output_type": "execute_result",
          "data": {
            "application/vnd.google.colaboratory.intrinsic+json": {
              "type": "string"
            },
            "text/plain": [
              "'             R$ 2.500  90 m² construídos   Loja comercial\\xa0para alugar   Tatuape   TATUAPE - Tatuapé - São Paulo Zona Leste - São Paulo             '"
            ]
          },
          "metadata": {
            "tags": []
          },
          "execution_count": 14
        }
      ]
    },
    {
      "cell_type": "code",
      "metadata": {
        "id": "FiGSfbW1PkCa",
        "colab_type": "code",
        "colab": {}
      },
      "source": [
        "dados = {'regiao': [],\n",
        "         'n_quartos': [],\n",
        "         'area': [],\n",
        "         'preco': []\n",
        "         }"
      ],
      "execution_count": 15,
      "outputs": []
    },
    {
      "cell_type": "code",
      "metadata": {
        "id": "d3fSf8p6LUaW",
        "colab_type": "code",
        "colab": {}
      },
      "source": [
        "for r in results:\n",
        "  preco, area = re.findall(RE_PRECO_M2, r.text)[0]\n",
        "  n_quartos = re.findall(RE_QUARTO, r.text)\n",
        "  if n_quartos==[]:\n",
        "    n_quartos = 'NaN'\n",
        "  else:\n",
        "    n_quartos = n_quartos[0]\n",
        "  dados['regiao'].append('leste')\n",
        "  dados['n_quartos'].append(n_quartos)\n",
        "  dados['preco'].append(preco)\n",
        "  dados['area'].append(area)"
      ],
      "execution_count": 16,
      "outputs": []
    },
    {
      "cell_type": "code",
      "metadata": {
        "id": "WvRssqTnNh7L",
        "colab_type": "code",
        "colab": {
          "base_uri": "https://localhost:8080/",
          "height": 204
        },
        "outputId": "1a74c1eb-ee78-4cc5-9887-cf15c7aa1222"
      },
      "source": [
        "import pandas as pd\n",
        "df = pd.DataFrame(dados)\n",
        "df.head()"
      ],
      "execution_count": 17,
      "outputs": [
        {
          "output_type": "execute_result",
          "data": {
            "text/html": [
              "<div>\n",
              "<style scoped>\n",
              "    .dataframe tbody tr th:only-of-type {\n",
              "        vertical-align: middle;\n",
              "    }\n",
              "\n",
              "    .dataframe tbody tr th {\n",
              "        vertical-align: top;\n",
              "    }\n",
              "\n",
              "    .dataframe thead th {\n",
              "        text-align: right;\n",
              "    }\n",
              "</style>\n",
              "<table border=\"1\" class=\"dataframe\">\n",
              "  <thead>\n",
              "    <tr style=\"text-align: right;\">\n",
              "      <th></th>\n",
              "      <th>regiao</th>\n",
              "      <th>n_quartos</th>\n",
              "      <th>area</th>\n",
              "      <th>preco</th>\n",
              "    </tr>\n",
              "  </thead>\n",
              "  <tbody>\n",
              "    <tr>\n",
              "      <th>0</th>\n",
              "      <td>leste</td>\n",
              "      <td>3</td>\n",
              "      <td>80</td>\n",
              "      <td>2.900</td>\n",
              "    </tr>\n",
              "    <tr>\n",
              "      <th>1</th>\n",
              "      <td>leste</td>\n",
              "      <td>2</td>\n",
              "      <td>50</td>\n",
              "      <td>1.901</td>\n",
              "    </tr>\n",
              "    <tr>\n",
              "      <th>2</th>\n",
              "      <td>leste</td>\n",
              "      <td>2</td>\n",
              "      <td>70</td>\n",
              "      <td>1.800</td>\n",
              "    </tr>\n",
              "    <tr>\n",
              "      <th>3</th>\n",
              "      <td>leste</td>\n",
              "      <td>2</td>\n",
              "      <td>153</td>\n",
              "      <td>2.900</td>\n",
              "    </tr>\n",
              "    <tr>\n",
              "      <th>4</th>\n",
              "      <td>leste</td>\n",
              "      <td>1</td>\n",
              "      <td>72</td>\n",
              "      <td>1.400</td>\n",
              "    </tr>\n",
              "  </tbody>\n",
              "</table>\n",
              "</div>"
            ],
            "text/plain": [
              "  regiao n_quartos area   preco\n",
              "0  leste         3   80  2.900 \n",
              "1  leste         2   50  1.901 \n",
              "2  leste         2   70  1.800 \n",
              "3  leste         2  153  2.900 \n",
              "4  leste         1   72  1.400 "
            ]
          },
          "metadata": {
            "tags": []
          },
          "execution_count": 17
        }
      ]
    },
    {
      "cell_type": "code",
      "metadata": {
        "id": "_IuULO5VPcAF",
        "colab_type": "code",
        "colab": {}
      },
      "source": [
        "df.to_csv('dados.csv')"
      ],
      "execution_count": 18,
      "outputs": []
    },
    {
      "cell_type": "code",
      "metadata": {
        "id": "fT59L_wjPbzP",
        "colab_type": "code",
        "colab": {}
      },
      "source": [
        ""
      ],
      "execution_count": 18,
      "outputs": []
    }
  ]
}