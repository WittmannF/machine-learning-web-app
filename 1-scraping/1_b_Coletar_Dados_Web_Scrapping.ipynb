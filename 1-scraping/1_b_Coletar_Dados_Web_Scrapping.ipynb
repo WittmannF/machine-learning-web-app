{
  "nbformat": 4,
  "nbformat_minor": 0,
  "metadata": {
    "colab": {
      "name": "1.b Coletar Dados - Web Scrapping.ipynb",
      "provenance": [],
      "collapsed_sections": [],
      "mount_file_id": "1azU0Y2C3lM3nSg3vPoVoRtXFTWVwgAH0",
      "authorship_tag": "ABX9TyNEIBI/7c0vKeXkwW7gfaLT",
      "include_colab_link": true
    },
    "kernelspec": {
      "name": "python3",
      "display_name": "Python 3"
    }
  },
  "cells": [
    {
      "cell_type": "markdown",
      "metadata": {
        "id": "view-in-github",
        "colab_type": "text"
      },
      "source": [
        "<a href=\"https://colab.research.google.com/github/WittmannF/machine-learning-web-app/blob/master/1-scraping/1_b_Coletar_Dados_Web_Scrapping.ipynb\" target=\"_parent\"><img src=\"https://colab.research.google.com/assets/colab-badge.svg\" alt=\"Open In Colab\"/></a>"
      ]
    },
    {
      "cell_type": "code",
      "metadata": {
        "id": "Jknxe6tWHZsu",
        "colab_type": "code",
        "colab": {}
      },
      "source": [
        "# Imports\n",
        "import pandas as pd\n",
        "import numpy as np\n",
        "import re\n",
        "from time import sleep\n",
        "import requests\n",
        "from bs4 import BeautifulSoup"
      ],
      "execution_count": 0,
      "outputs": []
    },
    {
      "cell_type": "code",
      "metadata": {
        "id": "XSmwUE3bJkoD",
        "colab_type": "code",
        "colab": {}
      },
      "source": [
        "# Parametros\n",
        "ZONAS = ['norte', 'sul', 'leste', 'oeste']\n",
        "PAGINAS = ['', '_Desde_49', '_Desde_97', '_Desde_145', '_Desde_193', '_Desde_241']\n",
        "URL_PADRAO = 'https://imoveis.mercadolivre.com.br/casas/aluguel/sao-paulo/sao-paulo-zona-{}/{}'\n",
        "\n",
        "EXPORTAR_CSV_GDRIVE = False\n",
        "\n",
        "# Padroes regex\n",
        "RE_PRECO_M2 = 'R\\$ (.*)  (.*) m²'\n",
        "RE_QUARTO = ' \\| (.*) quarto'"
      ],
      "execution_count": 0,
      "outputs": []
    },
    {
      "cell_type": "code",
      "metadata": {
        "id": "ofs0dbabJk7V",
        "colab_type": "code",
        "colab": {}
      },
      "source": [
        "# Funcoes\n",
        "def pegar_codigos_fontes():\n",
        "    codigo_fontes = []\n",
        "    for zona in ZONAS:\n",
        "        for pg in PAGINAS:\n",
        "            url = URL_PADRAO.format(zona, pg)\n",
        "            print(f'Carregando URL: {url}')\n",
        "            codigo_fonte = requests.get(url).content\n",
        "            codigo_fontes.append(codigo_fonte)\n",
        "            sleep(3)\n",
        "    return codigo_fontes\n",
        "\n",
        "def html_parse(codigo_fontes):\n",
        "    soups = []\n",
        "    for source in codigo_fontes:\n",
        "        soup = BeautifulSoup(source, 'html.parser')\n",
        "        soups.append(soup)\n",
        "    return soups\n",
        "\n",
        "def pegar_resultados(codigo_fontes_bs):\n",
        "    all_results = []\n",
        "    for soup in codigo_fontes_bs:\n",
        "        result = soup.findAll(\"li\", {\"class\": \"results-item highlighted article grid \"})\n",
        "        all_results.extend(result)\n",
        "    return all_results\n",
        "\n",
        "def extrair_atributos(all_results):\n",
        "    n_per_zonas = len(all_results)//len(ZONAS)\n",
        "\n",
        "    all_zones = []\n",
        "\n",
        "    for z in ZONAS:\n",
        "        all_zones.extend([z]*n_per_zonas)\n",
        "\n",
        "    dados = {'zona': [], 'quartos': [], 'area': [], 'preco': []}\n",
        "\n",
        "    for r, zona in zip(all_results, all_zones):\n",
        "        try:\n",
        "            preco, area = re.findall(RE_PRECO_M2, r.text)[0]\n",
        "            n_quartos = re.findall(RE_QUARTO, r.text)\n",
        "            if n_quartos == []:\n",
        "                n_quartos = 'NaN'\n",
        "            else:\n",
        "                n_quartos = n_quartos[0]\n",
        "            \n",
        "            dados['zona'].append(zona)\n",
        "            dados['quartos'].append(n_quartos)\n",
        "            dados['area'].append(area)\n",
        "            dados['preco'].append(preco)\n",
        "        except Exception as e:\n",
        "            print(\"Erro, pulando elemento.\")\n",
        "            print(\"O seguinte erro foi retornado: \")\n",
        "            print(e)\n",
        "            \n",
        "    df = pd.DataFrame(dados)\n",
        "    return df\n",
        "\n",
        "def converter_tipos(df):\n",
        "    df['quartos'] = df['quartos'].astype(float)\n",
        "    df['area'] = df['area'].astype(float)\n",
        "    df['preco'] = df['preco'].apply(lambda x: float(x.replace('.', '')))\n",
        "    return df"
      ],
      "execution_count": 0,
      "outputs": []
    },
    {
      "cell_type": "code",
      "metadata": {
        "id": "OH_9O_fbJlG7",
        "colab_type": "code",
        "outputId": "58635334-9b58-4576-cb4e-c76ee795a422",
        "colab": {
          "base_uri": "https://localhost:8080/",
          "height": 420
        }
      },
      "source": [
        "# Execucao\n",
        "\n",
        "# 1. Pegar codigos fontes\n",
        "codigos_fontes = pegar_codigos_fontes()"
      ],
      "execution_count": 4,
      "outputs": [
        {
          "output_type": "stream",
          "text": [
            "Carregando URL: https://imoveis.mercadolivre.com.br/casas/aluguel/sao-paulo/sao-paulo-zona-norte/\n",
            "Carregando URL: https://imoveis.mercadolivre.com.br/casas/aluguel/sao-paulo/sao-paulo-zona-norte/_Desde_49\n",
            "Carregando URL: https://imoveis.mercadolivre.com.br/casas/aluguel/sao-paulo/sao-paulo-zona-norte/_Desde_97\n",
            "Carregando URL: https://imoveis.mercadolivre.com.br/casas/aluguel/sao-paulo/sao-paulo-zona-norte/_Desde_145\n",
            "Carregando URL: https://imoveis.mercadolivre.com.br/casas/aluguel/sao-paulo/sao-paulo-zona-norte/_Desde_193\n",
            "Carregando URL: https://imoveis.mercadolivre.com.br/casas/aluguel/sao-paulo/sao-paulo-zona-norte/_Desde_241\n",
            "Carregando URL: https://imoveis.mercadolivre.com.br/casas/aluguel/sao-paulo/sao-paulo-zona-sul/\n",
            "Carregando URL: https://imoveis.mercadolivre.com.br/casas/aluguel/sao-paulo/sao-paulo-zona-sul/_Desde_49\n",
            "Carregando URL: https://imoveis.mercadolivre.com.br/casas/aluguel/sao-paulo/sao-paulo-zona-sul/_Desde_97\n",
            "Carregando URL: https://imoveis.mercadolivre.com.br/casas/aluguel/sao-paulo/sao-paulo-zona-sul/_Desde_145\n",
            "Carregando URL: https://imoveis.mercadolivre.com.br/casas/aluguel/sao-paulo/sao-paulo-zona-sul/_Desde_193\n",
            "Carregando URL: https://imoveis.mercadolivre.com.br/casas/aluguel/sao-paulo/sao-paulo-zona-sul/_Desde_241\n",
            "Carregando URL: https://imoveis.mercadolivre.com.br/casas/aluguel/sao-paulo/sao-paulo-zona-leste/\n",
            "Carregando URL: https://imoveis.mercadolivre.com.br/casas/aluguel/sao-paulo/sao-paulo-zona-leste/_Desde_49\n",
            "Carregando URL: https://imoveis.mercadolivre.com.br/casas/aluguel/sao-paulo/sao-paulo-zona-leste/_Desde_97\n",
            "Carregando URL: https://imoveis.mercadolivre.com.br/casas/aluguel/sao-paulo/sao-paulo-zona-leste/_Desde_145\n",
            "Carregando URL: https://imoveis.mercadolivre.com.br/casas/aluguel/sao-paulo/sao-paulo-zona-leste/_Desde_193\n",
            "Carregando URL: https://imoveis.mercadolivre.com.br/casas/aluguel/sao-paulo/sao-paulo-zona-leste/_Desde_241\n",
            "Carregando URL: https://imoveis.mercadolivre.com.br/casas/aluguel/sao-paulo/sao-paulo-zona-oeste/\n",
            "Carregando URL: https://imoveis.mercadolivre.com.br/casas/aluguel/sao-paulo/sao-paulo-zona-oeste/_Desde_49\n",
            "Carregando URL: https://imoveis.mercadolivre.com.br/casas/aluguel/sao-paulo/sao-paulo-zona-oeste/_Desde_97\n",
            "Carregando URL: https://imoveis.mercadolivre.com.br/casas/aluguel/sao-paulo/sao-paulo-zona-oeste/_Desde_145\n",
            "Carregando URL: https://imoveis.mercadolivre.com.br/casas/aluguel/sao-paulo/sao-paulo-zona-oeste/_Desde_193\n",
            "Carregando URL: https://imoveis.mercadolivre.com.br/casas/aluguel/sao-paulo/sao-paulo-zona-oeste/_Desde_241\n"
          ],
          "name": "stdout"
        }
      ]
    },
    {
      "cell_type": "code",
      "metadata": {
        "id": "9s4QuP0iLa_M",
        "colab_type": "code",
        "colab": {}
      },
      "source": [
        "# 2. Converter para Parser do Beautiful Soup\n",
        "codigo_fontes_bs = html_parse(codigos_fontes)"
      ],
      "execution_count": 0,
      "outputs": []
    },
    {
      "cell_type": "code",
      "metadata": {
        "id": "uG-Oy5mdLv0t",
        "colab_type": "code",
        "colab": {}
      },
      "source": [
        "# 3. Pegar resultados\n",
        "all_results = pegar_resultados(codigo_fontes_bs)"
      ],
      "execution_count": 0,
      "outputs": []
    },
    {
      "cell_type": "code",
      "metadata": {
        "id": "hiIn-lNHU1we",
        "colab_type": "code",
        "colab": {}
      },
      "source": [
        "# 4. Extrair atributos\n",
        "df = extrair_atributos(all_results)"
      ],
      "execution_count": 0,
      "outputs": []
    },
    {
      "cell_type": "code",
      "metadata": {
        "colab_type": "code",
        "id": "jYdXgyZWVZ1_",
        "colab": {}
      },
      "source": [
        "# 5. Converter tipos de atributos\n",
        "df = converter_tipos(df)"
      ],
      "execution_count": 0,
      "outputs": []
    },
    {
      "cell_type": "code",
      "metadata": {
        "id": "ORgEHvLvfBdH",
        "colab_type": "code",
        "colab": {
          "base_uri": "https://localhost:8080/",
          "height": 195
        },
        "outputId": "a646f7b7-a085-41a3-96fd-96fcbada8592"
      },
      "source": [
        "# 6. Visualizar base de dados importada\n",
        "# 6.1 Cabeçaço\n",
        "df.head()"
      ],
      "execution_count": 9,
      "outputs": [
        {
          "output_type": "execute_result",
          "data": {
            "text/html": [
              "<div>\n",
              "<style scoped>\n",
              "    .dataframe tbody tr th:only-of-type {\n",
              "        vertical-align: middle;\n",
              "    }\n",
              "\n",
              "    .dataframe tbody tr th {\n",
              "        vertical-align: top;\n",
              "    }\n",
              "\n",
              "    .dataframe thead th {\n",
              "        text-align: right;\n",
              "    }\n",
              "</style>\n",
              "<table border=\"1\" class=\"dataframe\">\n",
              "  <thead>\n",
              "    <tr style=\"text-align: right;\">\n",
              "      <th></th>\n",
              "      <th>zona</th>\n",
              "      <th>quartos</th>\n",
              "      <th>area</th>\n",
              "      <th>preco</th>\n",
              "    </tr>\n",
              "  </thead>\n",
              "  <tbody>\n",
              "    <tr>\n",
              "      <th>0</th>\n",
              "      <td>norte</td>\n",
              "      <td>2.0</td>\n",
              "      <td>90.0</td>\n",
              "      <td>1100.0</td>\n",
              "    </tr>\n",
              "    <tr>\n",
              "      <th>1</th>\n",
              "      <td>norte</td>\n",
              "      <td>1.0</td>\n",
              "      <td>50.0</td>\n",
              "      <td>700.0</td>\n",
              "    </tr>\n",
              "    <tr>\n",
              "      <th>2</th>\n",
              "      <td>norte</td>\n",
              "      <td>1.0</td>\n",
              "      <td>70.0</td>\n",
              "      <td>600.0</td>\n",
              "    </tr>\n",
              "    <tr>\n",
              "      <th>3</th>\n",
              "      <td>norte</td>\n",
              "      <td>1.0</td>\n",
              "      <td>40.0</td>\n",
              "      <td>750.0</td>\n",
              "    </tr>\n",
              "    <tr>\n",
              "      <th>4</th>\n",
              "      <td>norte</td>\n",
              "      <td>2.0</td>\n",
              "      <td>90.0</td>\n",
              "      <td>1200.0</td>\n",
              "    </tr>\n",
              "  </tbody>\n",
              "</table>\n",
              "</div>"
            ],
            "text/plain": [
              "    zona  quartos  area   preco\n",
              "0  norte      2.0  90.0  1100.0\n",
              "1  norte      1.0  50.0   700.0\n",
              "2  norte      1.0  70.0   600.0\n",
              "3  norte      1.0  40.0   750.0\n",
              "4  norte      2.0  90.0  1200.0"
            ]
          },
          "metadata": {
            "tags": []
          },
          "execution_count": 9
        }
      ]
    },
    {
      "cell_type": "code",
      "metadata": {
        "id": "jEq0IYdlfH6q",
        "colab_type": "code",
        "colab": {
          "base_uri": "https://localhost:8080/",
          "height": 284
        },
        "outputId": "56f9dac8-2ffb-4382-d66f-bc4b7595a7bf"
      },
      "source": [
        "# 6.2 Estatísticas\n",
        "df.describe()"
      ],
      "execution_count": 10,
      "outputs": [
        {
          "output_type": "execute_result",
          "data": {
            "text/html": [
              "<div>\n",
              "<style scoped>\n",
              "    .dataframe tbody tr th:only-of-type {\n",
              "        vertical-align: middle;\n",
              "    }\n",
              "\n",
              "    .dataframe tbody tr th {\n",
              "        vertical-align: top;\n",
              "    }\n",
              "\n",
              "    .dataframe thead th {\n",
              "        text-align: right;\n",
              "    }\n",
              "</style>\n",
              "<table border=\"1\" class=\"dataframe\">\n",
              "  <thead>\n",
              "    <tr style=\"text-align: right;\">\n",
              "      <th></th>\n",
              "      <th>quartos</th>\n",
              "      <th>area</th>\n",
              "      <th>preco</th>\n",
              "    </tr>\n",
              "  </thead>\n",
              "  <tbody>\n",
              "    <tr>\n",
              "      <th>count</th>\n",
              "      <td>1083.000000</td>\n",
              "      <td>1152.000000</td>\n",
              "      <td>1.152000e+03</td>\n",
              "    </tr>\n",
              "    <tr>\n",
              "      <th>mean</th>\n",
              "      <td>2.621422</td>\n",
              "      <td>187.568576</td>\n",
              "      <td>2.117958e+04</td>\n",
              "    </tr>\n",
              "    <tr>\n",
              "      <th>std</th>\n",
              "      <td>1.581660</td>\n",
              "      <td>334.020693</td>\n",
              "      <td>2.566756e+05</td>\n",
              "    </tr>\n",
              "    <tr>\n",
              "      <th>min</th>\n",
              "      <td>1.000000</td>\n",
              "      <td>10.000000</td>\n",
              "      <td>3.000000e+02</td>\n",
              "    </tr>\n",
              "    <tr>\n",
              "      <th>25%</th>\n",
              "      <td>2.000000</td>\n",
              "      <td>60.000000</td>\n",
              "      <td>1.115000e+03</td>\n",
              "    </tr>\n",
              "    <tr>\n",
              "      <th>50%</th>\n",
              "      <td>2.000000</td>\n",
              "      <td>125.000000</td>\n",
              "      <td>2.400000e+03</td>\n",
              "    </tr>\n",
              "    <tr>\n",
              "      <th>75%</th>\n",
              "      <td>3.000000</td>\n",
              "      <td>240.000000</td>\n",
              "      <td>6.000000e+03</td>\n",
              "    </tr>\n",
              "    <tr>\n",
              "      <th>max</th>\n",
              "      <td>17.000000</td>\n",
              "      <td>10000.000000</td>\n",
              "      <td>6.900000e+06</td>\n",
              "    </tr>\n",
              "  </tbody>\n",
              "</table>\n",
              "</div>"
            ],
            "text/plain": [
              "           quartos          area         preco\n",
              "count  1083.000000   1152.000000  1.152000e+03\n",
              "mean      2.621422    187.568576  2.117958e+04\n",
              "std       1.581660    334.020693  2.566756e+05\n",
              "min       1.000000     10.000000  3.000000e+02\n",
              "25%       2.000000     60.000000  1.115000e+03\n",
              "50%       2.000000    125.000000  2.400000e+03\n",
              "75%       3.000000    240.000000  6.000000e+03\n",
              "max      17.000000  10000.000000  6.900000e+06"
            ]
          },
          "metadata": {
            "tags": []
          },
          "execution_count": 10
        }
      ]
    },
    {
      "cell_type": "code",
      "metadata": {
        "id": "4U3bePYwh5F2",
        "colab_type": "code",
        "colab": {}
      },
      "source": [
        "# 7. (Opcional) Montar Google Drive\n",
        "import sys\n",
        "if EXPORTAR_CSV_GDRIVE and 'google.colab' in sys.modules:\n",
        "    try:\n",
        "        import os\n",
        "        os.system(\"pip install easycolab\")\n",
        "        import easycolab as ec\n",
        "        ec.mount()\n",
        "    except Exception as e:\n",
        "        print(e)"
      ],
      "execution_count": 0,
      "outputs": []
    },
    {
      "cell_type": "code",
      "metadata": {
        "id": "HWGyVIzkeGC2",
        "colab_type": "code",
        "colab": {}
      },
      "source": [
        "# 8. Exportar para CSV\n",
        "df.to_csv('dados_calculadora_imoveis.csv', index=False)"
      ],
      "execution_count": 0,
      "outputs": []
    },
    {
      "cell_type": "markdown",
      "metadata": {
        "id": "hOr-Q_VqfYbp",
        "colab_type": "text"
      },
      "source": [
        "Se estiver usando o Google Colab, para exportar a base de dados:\n",
        " 1. Clicar no ícone da pasta na lateral esquerda\n",
        " 2. Clicar com o botão direito na base de dados\n",
        " 3. Download\n",
        "\n",
        "![Screen Shot 2020-03-16 at 15 10 13](https://user-images.githubusercontent.com/5733246/76787874-97576b00-6798-11ea-82f7-a3228bd0a002.png)\n",
        "\n"
      ]
    }
  ]
}