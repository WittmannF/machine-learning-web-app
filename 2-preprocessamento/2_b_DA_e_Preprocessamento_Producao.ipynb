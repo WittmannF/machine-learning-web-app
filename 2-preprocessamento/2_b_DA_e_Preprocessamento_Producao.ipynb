{
  "nbformat": 4,
  "nbformat_minor": 0,
  "metadata": {
    "colab": {
      "name": "2.b DA e Preprocessamento - Producao.ipynb",
      "provenance": [],
      "authorship_tag": "ABX9TyMjuwCipcmgUxjp6Cld8nIC",
      "include_colab_link": true
    },
    "kernelspec": {
      "name": "python3",
      "display_name": "Python 3"
    }
  },
  "cells": [
    {
      "cell_type": "markdown",
      "metadata": {
        "id": "view-in-github",
        "colab_type": "text"
      },
      "source": [
        "<a href=\"https://colab.research.google.com/github/WittmannF/machine-learning-web-app/blob/master/2-preprocessamento/2_b_DA_e_Preprocessamento_Producao.ipynb\" target=\"_parent\"><img src=\"https://colab.research.google.com/assets/colab-badge.svg\" alt=\"Open In Colab\"/></a>"
      ]
    },
    {
      "cell_type": "code",
      "metadata": {
        "id": "ABTw5nhKYTFD",
        "colab_type": "code",
        "colab": {}
      },
      "source": [
        "## Imports\n",
        "import pandas as pd\n",
        "import seaborn as sns\n",
        "import numpy as np\n",
        "from sklearn.model_selection import train_test_split\n",
        "from sklearn.ensemble import RandomForestRegressor"
      ],
      "execution_count": 0,
      "outputs": []
    },
    {
      "cell_type": "code",
      "metadata": {
        "id": "o84-R07HbiQd",
        "colab_type": "code",
        "colab": {}
      },
      "source": [
        "## Parametros\n",
        "# Caminho para acesso local (ex: 'c:\\\\dados.csv') ou via URL\n",
        "URL_DADOS = 'https://raw.githubusercontent.com/WittmannF/machine-learning-web-app/master/1-scraping/dados_calculadora_imoveis.csv'\n",
        "\n",
        "# Limites a serem filtrados na base de treinamento\n",
        "LIMITE_PRECO = 100000 # Valor maximo de aluguel\n",
        "LIMITE_AREA = 2500 # Valor máximo da área"
      ],
      "execution_count": 0,
      "outputs": []
    },
    {
      "cell_type": "code",
      "metadata": {
        "id": "ZwsQMR8nbiYN",
        "colab_type": "code",
        "colab": {}
      },
      "source": [
        "# Funcoes\n",
        "def ler_dividir_dados():\n",
        "    df = pd.read_csv(URL_DADOS); df\n",
        "\n",
        "    X_train, X_test, y_train, y_test = train_test_split(df[['zona','quartos','area']], \n",
        "                                                        df['preco'], \n",
        "                                                        stratify=df['zona'], \n",
        "                                                        test_size=0.25,\n",
        "                                                        random_state=0\n",
        "                                                        )\n",
        "    treino = pd.concat([X_train, y_train], axis=1)\n",
        "    teste = pd.concat([X_test, y_test], axis=1)\n",
        "\n",
        "    treino.to_csv('treino.csv', index=False)\n",
        "    teste.to_csv('teste.csv', index=False)\n",
        "\n",
        "    return treino, teste\n",
        "\n",
        "def filtrar_dados(df, limite_preco, limite_area):\n",
        "    df_limpo = df[(df['preco']<=limite_preco)&(df['area']<=limite_area)]\n",
        "    return df_limpo\n",
        "\n",
        "def preencher_nan_quarto(df, teste):\n",
        "    df_limpo = df.copy()\n",
        "    teste_limpo = teste.copy()\n",
        "\n",
        "    reg = RandomForestRegressor()\n",
        "    X_fillna = df_limpo.loc[~df_limpo['quartos'].isna(),'area']\n",
        "    y_fillna = df_limpo.loc[~df_limpo['quartos'].isna(),'quartos']\n",
        "    reg.fit(X_fillna.values.reshape(-1, 1), y_fillna.values)\n",
        "\n",
        "    # Preencher NaNs para conjunto de treino\n",
        "    X_fillna_pred = df_limpo.loc[df_limpo['quartos'].isna(),'area'].values.reshape(-1, 1)\n",
        "    y_fillna_pred = reg.predict(X_fillna_pred).astype(int)\n",
        "    df_limpo.loc[df_limpo['quartos'].isna(),'quartos'] = y_fillna_pred\n",
        "    \n",
        "    # Preencher NaNs para o conjunto de teste\n",
        "    X_test_pred = teste_limpo.loc[teste_limpo['quartos'].isna(),'area'].values.reshape(-1, 1)\n",
        "    y_test_pred = reg.predict(X_test_pred).astype(int)\n",
        "    teste_limpo.loc[teste_limpo['quartos'].isna(),'quartos'] = y_test_pred\n",
        "\n",
        "    return df_limpo, teste_limpo\n",
        "\n",
        "def log_transform(df_limpo, teste):\n",
        "    df_limpo['preco'] = df_limpo['preco'].apply(np.log1p)\n",
        "    df_limpo['quartos'] = df_limpo['quartos'].apply(np.log1p)\n",
        "    df_limpo['area'] = df_limpo['area'].apply(np.log1p)\n",
        "\n",
        "    # Tratar conjunto de testes\n",
        "    teste['quartos'] = teste['quartos'].apply(np.log1p)\n",
        "    teste['area'] = teste['area'].apply(np.log1p)\n",
        "    teste['preco'] = teste['preco'].apply(np.log1p)\n",
        "    return df_limpo, teste\n",
        "\n",
        "def aplicar_one_hot_zona(df_limpo):\n",
        "    zona_one_hot = pd.get_dummies(df_limpo['zona'], drop_first=True)\n",
        "    return pd.concat([zona_one_hot, df_limpo[['quartos','area','preco']]], axis=1)"
      ],
      "execution_count": 0,
      "outputs": []
    },
    {
      "cell_type": "code",
      "metadata": {
        "id": "7uDYwp8rbkmG",
        "colab_type": "code",
        "colab": {}
      },
      "source": [
        "# 1. Leitura e divisao dos dados\n",
        "treino, teste = ler_dividir_dados()"
      ],
      "execution_count": 0,
      "outputs": []
    },
    {
      "cell_type": "code",
      "metadata": {
        "id": "wEezI3E55nTi",
        "colab_type": "code",
        "outputId": "cf58a0bd-df62-4494-94b6-6d5b365c90ad",
        "colab": {
          "base_uri": "https://localhost:8080/",
          "height": 195
        }
      },
      "source": [
        "# 2. Análise Exploratoria Antes\n",
        "treino.head()"
      ],
      "execution_count": 20,
      "outputs": [
        {
          "output_type": "execute_result",
          "data": {
            "text/html": [
              "<div>\n",
              "<style scoped>\n",
              "    .dataframe tbody tr th:only-of-type {\n",
              "        vertical-align: middle;\n",
              "    }\n",
              "\n",
              "    .dataframe tbody tr th {\n",
              "        vertical-align: top;\n",
              "    }\n",
              "\n",
              "    .dataframe thead th {\n",
              "        text-align: right;\n",
              "    }\n",
              "</style>\n",
              "<table border=\"1\" class=\"dataframe\">\n",
              "  <thead>\n",
              "    <tr style=\"text-align: right;\">\n",
              "      <th></th>\n",
              "      <th>zona</th>\n",
              "      <th>quartos</th>\n",
              "      <th>area</th>\n",
              "      <th>preco</th>\n",
              "    </tr>\n",
              "  </thead>\n",
              "  <tbody>\n",
              "    <tr>\n",
              "      <th>18</th>\n",
              "      <td>norte</td>\n",
              "      <td>3.0</td>\n",
              "      <td>300.0</td>\n",
              "      <td>1600.0</td>\n",
              "    </tr>\n",
              "    <tr>\n",
              "      <th>461</th>\n",
              "      <td>sul</td>\n",
              "      <td>3.0</td>\n",
              "      <td>150.0</td>\n",
              "      <td>4000.0</td>\n",
              "    </tr>\n",
              "    <tr>\n",
              "      <th>249</th>\n",
              "      <td>norte</td>\n",
              "      <td>4.0</td>\n",
              "      <td>400.0</td>\n",
              "      <td>6000.0</td>\n",
              "    </tr>\n",
              "    <tr>\n",
              "      <th>632</th>\n",
              "      <td>leste</td>\n",
              "      <td>2.0</td>\n",
              "      <td>55.0</td>\n",
              "      <td>950.0</td>\n",
              "    </tr>\n",
              "    <tr>\n",
              "      <th>458</th>\n",
              "      <td>sul</td>\n",
              "      <td>4.0</td>\n",
              "      <td>495.0</td>\n",
              "      <td>5000.0</td>\n",
              "    </tr>\n",
              "  </tbody>\n",
              "</table>\n",
              "</div>"
            ],
            "text/plain": [
              "      zona  quartos   area   preco\n",
              "18   norte      3.0  300.0  1600.0\n",
              "461    sul      3.0  150.0  4000.0\n",
              "249  norte      4.0  400.0  6000.0\n",
              "632  leste      2.0   55.0   950.0\n",
              "458    sul      4.0  495.0  5000.0"
            ]
          },
          "metadata": {
            "tags": []
          },
          "execution_count": 20
        }
      ]
    },
    {
      "cell_type": "code",
      "metadata": {
        "id": "z6kx89KW5iiD",
        "colab_type": "code",
        "outputId": "412aba96-4236-4451-f828-f0a7baadc089",
        "colab": {
          "base_uri": "https://localhost:8080/",
          "height": 284
        }
      },
      "source": [
        "treino.describe()"
      ],
      "execution_count": 21,
      "outputs": [
        {
          "output_type": "execute_result",
          "data": {
            "text/html": [
              "<div>\n",
              "<style scoped>\n",
              "    .dataframe tbody tr th:only-of-type {\n",
              "        vertical-align: middle;\n",
              "    }\n",
              "\n",
              "    .dataframe tbody tr th {\n",
              "        vertical-align: top;\n",
              "    }\n",
              "\n",
              "    .dataframe thead th {\n",
              "        text-align: right;\n",
              "    }\n",
              "</style>\n",
              "<table border=\"1\" class=\"dataframe\">\n",
              "  <thead>\n",
              "    <tr style=\"text-align: right;\">\n",
              "      <th></th>\n",
              "      <th>quartos</th>\n",
              "      <th>area</th>\n",
              "      <th>preco</th>\n",
              "    </tr>\n",
              "  </thead>\n",
              "  <tbody>\n",
              "    <tr>\n",
              "      <th>count</th>\n",
              "      <td>804.000000</td>\n",
              "      <td>864.000000</td>\n",
              "      <td>8.640000e+02</td>\n",
              "    </tr>\n",
              "    <tr>\n",
              "      <th>mean</th>\n",
              "      <td>2.598259</td>\n",
              "      <td>176.914352</td>\n",
              "      <td>8.524549e+03</td>\n",
              "    </tr>\n",
              "    <tr>\n",
              "      <th>std</th>\n",
              "      <td>1.562017</td>\n",
              "      <td>160.104802</td>\n",
              "      <td>6.585445e+04</td>\n",
              "    </tr>\n",
              "    <tr>\n",
              "      <th>min</th>\n",
              "      <td>1.000000</td>\n",
              "      <td>1.000000</td>\n",
              "      <td>3.000000e+02</td>\n",
              "    </tr>\n",
              "    <tr>\n",
              "      <th>25%</th>\n",
              "      <td>2.000000</td>\n",
              "      <td>60.000000</td>\n",
              "      <td>1.200000e+03</td>\n",
              "    </tr>\n",
              "    <tr>\n",
              "      <th>50%</th>\n",
              "      <td>2.000000</td>\n",
              "      <td>125.000000</td>\n",
              "      <td>2.500000e+03</td>\n",
              "    </tr>\n",
              "    <tr>\n",
              "      <th>75%</th>\n",
              "      <td>3.000000</td>\n",
              "      <td>234.000000</td>\n",
              "      <td>5.500000e+03</td>\n",
              "    </tr>\n",
              "    <tr>\n",
              "      <th>max</th>\n",
              "      <td>17.000000</td>\n",
              "      <td>1000.000000</td>\n",
              "      <td>1.800000e+06</td>\n",
              "    </tr>\n",
              "  </tbody>\n",
              "</table>\n",
              "</div>"
            ],
            "text/plain": [
              "          quartos         area         preco\n",
              "count  804.000000   864.000000  8.640000e+02\n",
              "mean     2.598259   176.914352  8.524549e+03\n",
              "std      1.562017   160.104802  6.585445e+04\n",
              "min      1.000000     1.000000  3.000000e+02\n",
              "25%      2.000000    60.000000  1.200000e+03\n",
              "50%      2.000000   125.000000  2.500000e+03\n",
              "75%      3.000000   234.000000  5.500000e+03\n",
              "max     17.000000  1000.000000  1.800000e+06"
            ]
          },
          "metadata": {
            "tags": []
          },
          "execution_count": 21
        }
      ]
    },
    {
      "cell_type": "code",
      "metadata": {
        "id": "xjjqjjQf5Yx-",
        "colab_type": "code",
        "outputId": "938b9f7b-13b4-4765-dbe8-d059fc90a961",
        "colab": {
          "base_uri": "https://localhost:8080/",
          "height": 584
        }
      },
      "source": [
        "sns.pairplot(treino, kind='reg', plot_kws={'line_kws':{'color':'orange'}})"
      ],
      "execution_count": 22,
      "outputs": [
        {
          "output_type": "execute_result",
          "data": {
            "text/plain": [
              "<seaborn.axisgrid.PairGrid at 0x7fd6bde197f0>"
            ]
          },
          "metadata": {
            "tags": []
          },
          "execution_count": 22
        },
        {
          "output_type": "display_data",
          "data": {
            "image/png": "[encoded data removed]",
            "text/plain": [
              "<Figure size 540x540 with 12 Axes>"
            ]
          },
          "metadata": {
            "tags": []
          }
        }
      ]
    },
    {
      "cell_type": "code",
      "metadata": {
        "id": "FljoWjdNb7fY",
        "colab_type": "code",
        "colab": {}
      },
      "source": [
        "# 3. Limpeza dos dados e remocao dos outliers\n",
        "treino_prep = filtrar_dados(treino, LIMITE_PRECO, LIMITE_AREA)"
      ],
      "execution_count": 0,
      "outputs": []
    },
    {
      "cell_type": "code",
      "metadata": {
        "id": "Rh5mV1fVdgnr",
        "colab_type": "code",
        "colab": {}
      },
      "source": [
        "# 4. Preencher NaNs do Quarto\n",
        "treino_prep, teste_prep = preencher_nan_quarto(treino_prep, teste)"
      ],
      "execution_count": 0,
      "outputs": []
    },
    {
      "cell_type": "code",
      "metadata": {
        "id": "jcUPn45Hgc_N",
        "colab_type": "code",
        "colab": {}
      },
      "source": [
        "# 5. Aplicar transformacao logaritmica \n",
        "treino_prep, teste_prep = log_transform(treino_prep, teste_prep)"
      ],
      "execution_count": 0,
      "outputs": []
    },
    {
      "cell_type": "code",
      "metadata": {
        "id": "Gf6W9b5Thf2p",
        "colab_type": "code",
        "colab": {}
      },
      "source": [
        "# 6. Tratamento da coluna categorica 'zona'\n",
        "treino_prep = aplicar_one_hot_zona(treino_prep)\n",
        "teste_prep = aplicar_one_hot_zona(teste_prep)"
      ],
      "execution_count": 0,
      "outputs": []
    },
    {
      "cell_type": "code",
      "metadata": {
        "id": "dCDRIVPioEwi",
        "colab_type": "code",
        "colab": {}
      },
      "source": [
        "# 7. Exportar base para CSV\n",
        "treino_prep.to_csv('treino_preprocessado.csv', index=False)\n",
        "teste_prep.to_csv('teste_preprocessado.csv', index=False)"
      ],
      "execution_count": 0,
      "outputs": []
    },
    {
      "cell_type": "code",
      "metadata": {
        "id": "9TrHbs9BrbS7",
        "colab_type": "code",
        "outputId": "693279fa-a911-4594-8ad6-33d6b8f92768",
        "colab": {
          "base_uri": "https://localhost:8080/",
          "height": 195
        }
      },
      "source": [
        "# 8. Analise Exploratória Pós Preprocessamento\n",
        "treino_prep.head()"
      ],
      "execution_count": 28,
      "outputs": [
        {
          "output_type": "execute_result",
          "data": {
            "text/html": [
              "<div>\n",
              "<style scoped>\n",
              "    .dataframe tbody tr th:only-of-type {\n",
              "        vertical-align: middle;\n",
              "    }\n",
              "\n",
              "    .dataframe tbody tr th {\n",
              "        vertical-align: top;\n",
              "    }\n",
              "\n",
              "    .dataframe thead th {\n",
              "        text-align: right;\n",
              "    }\n",
              "</style>\n",
              "<table border=\"1\" class=\"dataframe\">\n",
              "  <thead>\n",
              "    <tr style=\"text-align: right;\">\n",
              "      <th></th>\n",
              "      <th>norte</th>\n",
              "      <th>oeste</th>\n",
              "      <th>sul</th>\n",
              "      <th>quartos</th>\n",
              "      <th>area</th>\n",
              "      <th>preco</th>\n",
              "    </tr>\n",
              "  </thead>\n",
              "  <tbody>\n",
              "    <tr>\n",
              "      <th>18</th>\n",
              "      <td>1</td>\n",
              "      <td>0</td>\n",
              "      <td>0</td>\n",
              "      <td>1.386294</td>\n",
              "      <td>5.707110</td>\n",
              "      <td>7.378384</td>\n",
              "    </tr>\n",
              "    <tr>\n",
              "      <th>461</th>\n",
              "      <td>0</td>\n",
              "      <td>0</td>\n",
              "      <td>1</td>\n",
              "      <td>1.386294</td>\n",
              "      <td>5.017280</td>\n",
              "      <td>8.294300</td>\n",
              "    </tr>\n",
              "    <tr>\n",
              "      <th>249</th>\n",
              "      <td>1</td>\n",
              "      <td>0</td>\n",
              "      <td>0</td>\n",
              "      <td>1.609438</td>\n",
              "      <td>5.993961</td>\n",
              "      <td>8.699681</td>\n",
              "    </tr>\n",
              "    <tr>\n",
              "      <th>632</th>\n",
              "      <td>0</td>\n",
              "      <td>0</td>\n",
              "      <td>0</td>\n",
              "      <td>1.098612</td>\n",
              "      <td>4.025352</td>\n",
              "      <td>6.857514</td>\n",
              "    </tr>\n",
              "    <tr>\n",
              "      <th>458</th>\n",
              "      <td>0</td>\n",
              "      <td>0</td>\n",
              "      <td>1</td>\n",
              "      <td>1.609438</td>\n",
              "      <td>6.206576</td>\n",
              "      <td>8.517393</td>\n",
              "    </tr>\n",
              "  </tbody>\n",
              "</table>\n",
              "</div>"
            ],
            "text/plain": [
              "     norte  oeste  sul   quartos      area     preco\n",
              "18       1      0    0  1.386294  5.707110  7.378384\n",
              "461      0      0    1  1.386294  5.017280  8.294300\n",
              "249      1      0    0  1.609438  5.993961  8.699681\n",
              "632      0      0    0  1.098612  4.025352  6.857514\n",
              "458      0      0    1  1.609438  6.206576  8.517393"
            ]
          },
          "metadata": {
            "tags": []
          },
          "execution_count": 28
        }
      ]
    },
    {
      "cell_type": "code",
      "metadata": {
        "id": "uS93_gyB57Jc",
        "colab_type": "code",
        "outputId": "9167e2b3-030d-4f63-fe95-f3938da34122",
        "colab": {
          "base_uri": "https://localhost:8080/",
          "height": 284
        }
      },
      "source": [
        "treino_prep.describe()"
      ],
      "execution_count": 29,
      "outputs": [
        {
          "output_type": "execute_result",
          "data": {
            "text/html": [
              "<div>\n",
              "<style scoped>\n",
              "    .dataframe tbody tr th:only-of-type {\n",
              "        vertical-align: middle;\n",
              "    }\n",
              "\n",
              "    .dataframe tbody tr th {\n",
              "        vertical-align: top;\n",
              "    }\n",
              "\n",
              "    .dataframe thead th {\n",
              "        text-align: right;\n",
              "    }\n",
              "</style>\n",
              "<table border=\"1\" class=\"dataframe\">\n",
              "  <thead>\n",
              "    <tr style=\"text-align: right;\">\n",
              "      <th></th>\n",
              "      <th>norte</th>\n",
              "      <th>oeste</th>\n",
              "      <th>sul</th>\n",
              "      <th>quartos</th>\n",
              "      <th>area</th>\n",
              "      <th>preco</th>\n",
              "    </tr>\n",
              "  </thead>\n",
              "  <tbody>\n",
              "    <tr>\n",
              "      <th>count</th>\n",
              "      <td>859.000000</td>\n",
              "      <td>859.000000</td>\n",
              "      <td>859.000000</td>\n",
              "      <td>859.000000</td>\n",
              "      <td>859.000000</td>\n",
              "      <td>859.000000</td>\n",
              "    </tr>\n",
              "    <tr>\n",
              "      <th>mean</th>\n",
              "      <td>0.251455</td>\n",
              "      <td>0.250291</td>\n",
              "      <td>0.247963</td>\n",
              "      <td>1.213501</td>\n",
              "      <td>4.807831</td>\n",
              "      <td>7.902039</td>\n",
              "    </tr>\n",
              "    <tr>\n",
              "      <th>std</th>\n",
              "      <td>0.434102</td>\n",
              "      <td>0.433433</td>\n",
              "      <td>0.432082</td>\n",
              "      <td>0.365875</td>\n",
              "      <td>0.901770</td>\n",
              "      <td>1.031470</td>\n",
              "    </tr>\n",
              "    <tr>\n",
              "      <th>min</th>\n",
              "      <td>0.000000</td>\n",
              "      <td>0.000000</td>\n",
              "      <td>0.000000</td>\n",
              "      <td>0.693147</td>\n",
              "      <td>0.693147</td>\n",
              "      <td>5.707110</td>\n",
              "    </tr>\n",
              "    <tr>\n",
              "      <th>25%</th>\n",
              "      <td>0.000000</td>\n",
              "      <td>0.000000</td>\n",
              "      <td>0.000000</td>\n",
              "      <td>1.098612</td>\n",
              "      <td>4.110874</td>\n",
              "      <td>7.090910</td>\n",
              "    </tr>\n",
              "    <tr>\n",
              "      <th>50%</th>\n",
              "      <td>0.000000</td>\n",
              "      <td>0.000000</td>\n",
              "      <td>0.000000</td>\n",
              "      <td>1.098612</td>\n",
              "      <td>4.795791</td>\n",
              "      <td>7.783641</td>\n",
              "    </tr>\n",
              "    <tr>\n",
              "      <th>75%</th>\n",
              "      <td>1.000000</td>\n",
              "      <td>0.500000</td>\n",
              "      <td>0.000000</td>\n",
              "      <td>1.386294</td>\n",
              "      <td>5.446728</td>\n",
              "      <td>8.612685</td>\n",
              "    </tr>\n",
              "    <tr>\n",
              "      <th>max</th>\n",
              "      <td>1.000000</td>\n",
              "      <td>1.000000</td>\n",
              "      <td>1.000000</td>\n",
              "      <td>2.890372</td>\n",
              "      <td>6.908755</td>\n",
              "      <td>11.407576</td>\n",
              "    </tr>\n",
              "  </tbody>\n",
              "</table>\n",
              "</div>"
            ],
            "text/plain": [
              "            norte       oeste         sul     quartos        area       preco\n",
              "count  859.000000  859.000000  859.000000  859.000000  859.000000  859.000000\n",
              "mean     0.251455    0.250291    0.247963    1.213501    4.807831    7.902039\n",
              "std      0.434102    0.433433    0.432082    0.365875    0.901770    1.031470\n",
              "min      0.000000    0.000000    0.000000    0.693147    0.693147    5.707110\n",
              "25%      0.000000    0.000000    0.000000    1.098612    4.110874    7.090910\n",
              "50%      0.000000    0.000000    0.000000    1.098612    4.795791    7.783641\n",
              "75%      1.000000    0.500000    0.000000    1.386294    5.446728    8.612685\n",
              "max      1.000000    1.000000    1.000000    2.890372    6.908755   11.407576"
            ]
          },
          "metadata": {
            "tags": []
          },
          "execution_count": 29
        }
      ]
    },
    {
      "cell_type": "code",
      "metadata": {
        "id": "VtgwXKfI5-oZ",
        "colab_type": "code",
        "outputId": "687de413-acda-4f8b-95a6-b27cf437536a",
        "colab": {
          "base_uri": "https://localhost:8080/",
          "height": 586
        }
      },
      "source": [
        "cols = ['quartos','area','preco']\n",
        "sns.pairplot(treino_prep[cols], kind='reg', plot_kws={'line_kws':{'color':'orange'}})"
      ],
      "execution_count": 30,
      "outputs": [
        {
          "output_type": "execute_result",
          "data": {
            "text/plain": [
              "<seaborn.axisgrid.PairGrid at 0x7fd6bc018d68>"
            ]
          },
          "metadata": {
            "tags": []
          },
          "execution_count": 30
        },
        {
          "output_type": "display_data",
          "data": {
            "image/png": "[encoded data removed]",
            "text/plain": [
              "<Figure size 540x540 with 12 Axes>"
            ]
          },
          "metadata": {
            "tags": []
          }
        }
      ]
    },
    {
      "cell_type": "code",
      "metadata": {
        "id": "15QUvA3v6Fyd",
        "colab_type": "code",
        "colab": {}
      },
      "source": [
        ""
      ],
      "execution_count": 0,
      "outputs": []
    }
  ]
}