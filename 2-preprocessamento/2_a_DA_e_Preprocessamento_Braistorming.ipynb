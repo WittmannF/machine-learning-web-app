{
  "nbformat": 4,
  "nbformat_minor": 0,
  "metadata": {
    "colab": {
      "name": "2.a DA e Preprocessamento - Braistorming.ipynb",
      "provenance": [],
      "authorship_tag": "ABX9TyPswGc7k9jjlZYz5pd+fqPY",
      "include_colab_link": true
    },
    "kernelspec": {
      "name": "python3",
      "display_name": "Python 3"
    }
  },
  "cells": [
    {
      "cell_type": "markdown",
      "metadata": {
        "id": "view-in-github",
        "colab_type": "text"
      },
      "source": [
        "<a href=\"https://colab.research.google.com/github/WittmannF/machine-learning-web-app/blob/master/2-preprocessamento/2_a_DA_e_Preprocessamento_Braistorming.ipynb\" target=\"_parent\"><img src=\"https://colab.research.google.com/assets/colab-badge.svg\" alt=\"Open In Colab\"/></a>"
      ]
    },
    {
      "cell_type": "code",
      "metadata": {
        "id": "gHVyOghpvsEX",
        "colab_type": "code",
        "colab": {}
      },
      "source": [
        "import pandas as pd\n",
        "import seaborn as sns\n",
        "import numpy as np\n",
        "from sklearn.model_selection import train_test_split"
      ],
      "execution_count": 0,
      "outputs": []
    },
    {
      "cell_type": "code",
      "metadata": {
        "id": "wiK7Rbh4bw9x",
        "colab_type": "code",
        "colab": {
          "base_uri": "https://localhost:8080/",
          "height": 222
        },
        "outputId": "6cab0bc5-e943-4f5f-9166-3917a243f653"
      },
      "source": [
        "# Pegar base de dados\n",
        "!wget https://raw.githubusercontent.com/WittmannF/machine-learning-web-app/master/1-scraping/dados_calculadora_imoveis.csv"
      ],
      "execution_count": 2,
      "outputs": [
        {
          "output_type": "stream",
          "text": [
            "--2020-03-16 17:41:13--  https://raw.githubusercontent.com/WittmannF/machine-learning-web-app/master/1-scraping/dados_calculadora_imoveis.csv\n",
            "Resolving raw.githubusercontent.com (raw.githubusercontent.com)... 151.101.0.133, 151.101.64.133, 151.101.128.133, ...\n",
            "Connecting to raw.githubusercontent.com (raw.githubusercontent.com)|151.101.0.133|:443... connected.\n",
            "HTTP request sent, awaiting response... 200 OK\n",
            "Length: 25228 (25K) [text/plain]\n",
            "Saving to: ‘dados_calculadora_imoveis.csv’\n",
            "\n",
            "\r          dados_cal   0%[                    ]       0  --.-KB/s               \rdados_calculadora_i 100%[===================>]  24.64K  --.-KB/s    in 0.01s   \n",
            "\n",
            "2020-03-16 17:41:13 (1.96 MB/s) - ‘dados_calculadora_imoveis.csv’ saved [25228/25228]\n",
            "\n"
          ],
          "name": "stdout"
        }
      ]
    },
    {
      "cell_type": "code",
      "metadata": {
        "id": "Vs9Z4gzhvyyV",
        "colab_type": "code",
        "outputId": "02909ec2-92a0-4cf5-e4bd-71792cf69e6b",
        "colab": {
          "base_uri": "https://localhost:8080/",
          "height": 34
        }
      },
      "source": [
        "ls"
      ],
      "execution_count": 3,
      "outputs": [
        {
          "output_type": "stream",
          "text": [
            "dados_calculadora_imoveis.csv  \u001b[0m\u001b[01;34msample_data\u001b[0m/\n"
          ],
          "name": "stdout"
        }
      ]
    },
    {
      "cell_type": "code",
      "metadata": {
        "id": "9fkEyLOdv9jg",
        "colab_type": "code",
        "colab": {}
      },
      "source": [
        "df = pd.read_csv('dados_calculadora_imoveis.csv')"
      ],
      "execution_count": 0,
      "outputs": []
    },
    {
      "cell_type": "code",
      "metadata": {
        "id": "Brm1dXTpwDGf",
        "colab_type": "code",
        "outputId": "a9bfe10a-3819-452d-9409-5f20b53fff94",
        "colab": {
          "base_uri": "https://localhost:8080/",
          "height": 195
        }
      },
      "source": [
        "df.head()"
      ],
      "execution_count": 5,
      "outputs": [
        {
          "output_type": "execute_result",
          "data": {
            "text/html": [
              "<div>\n",
              "<style scoped>\n",
              "    .dataframe tbody tr th:only-of-type {\n",
              "        vertical-align: middle;\n",
              "    }\n",
              "\n",
              "    .dataframe tbody tr th {\n",
              "        vertical-align: top;\n",
              "    }\n",
              "\n",
              "    .dataframe thead th {\n",
              "        text-align: right;\n",
              "    }\n",
              "</style>\n",
              "<table border=\"1\" class=\"dataframe\">\n",
              "  <thead>\n",
              "    <tr style=\"text-align: right;\">\n",
              "      <th></th>\n",
              "      <th>zona</th>\n",
              "      <th>quartos</th>\n",
              "      <th>area</th>\n",
              "      <th>preco</th>\n",
              "    </tr>\n",
              "  </thead>\n",
              "  <tbody>\n",
              "    <tr>\n",
              "      <th>0</th>\n",
              "      <td>norte</td>\n",
              "      <td>2.0</td>\n",
              "      <td>90.0</td>\n",
              "      <td>1100.0</td>\n",
              "    </tr>\n",
              "    <tr>\n",
              "      <th>1</th>\n",
              "      <td>norte</td>\n",
              "      <td>1.0</td>\n",
              "      <td>50.0</td>\n",
              "      <td>700.0</td>\n",
              "    </tr>\n",
              "    <tr>\n",
              "      <th>2</th>\n",
              "      <td>norte</td>\n",
              "      <td>1.0</td>\n",
              "      <td>70.0</td>\n",
              "      <td>600.0</td>\n",
              "    </tr>\n",
              "    <tr>\n",
              "      <th>3</th>\n",
              "      <td>norte</td>\n",
              "      <td>2.0</td>\n",
              "      <td>90.0</td>\n",
              "      <td>1200.0</td>\n",
              "    </tr>\n",
              "    <tr>\n",
              "      <th>4</th>\n",
              "      <td>norte</td>\n",
              "      <td>1.0</td>\n",
              "      <td>40.0</td>\n",
              "      <td>750.0</td>\n",
              "    </tr>\n",
              "  </tbody>\n",
              "</table>\n",
              "</div>"
            ],
            "text/plain": [
              "    zona  quartos  area   preco\n",
              "0  norte      2.0  90.0  1100.0\n",
              "1  norte      1.0  50.0   700.0\n",
              "2  norte      1.0  70.0   600.0\n",
              "3  norte      2.0  90.0  1200.0\n",
              "4  norte      1.0  40.0   750.0"
            ]
          },
          "metadata": {
            "tags": []
          },
          "execution_count": 5
        }
      ]
    },
    {
      "cell_type": "code",
      "metadata": {
        "id": "8Vv3zEwY4Oa1",
        "colab_type": "code",
        "colab": {}
      },
      "source": [
        "X_train, X_test, y_train, y_test = train_test_split(df[['zona','quartos','area']], \n",
        "                                                    df['preco'], \n",
        "                                                    stratify=df['zona'], \n",
        "                                                    test_size=0.25,\n",
        "                                                    random_state=0\n",
        "                                                    )"
      ],
      "execution_count": 0,
      "outputs": []
    },
    {
      "cell_type": "code",
      "metadata": {
        "id": "-nNPaT9b5MFE",
        "colab_type": "code",
        "outputId": "caeffceb-2315-4cf6-b4ff-0572e2121897",
        "colab": {
          "base_uri": "https://localhost:8080/",
          "height": 101
        }
      },
      "source": [
        "X_train['zona'].value_counts()"
      ],
      "execution_count": 7,
      "outputs": [
        {
          "output_type": "execute_result",
          "data": {
            "text/plain": [
              "norte    216\n",
              "sul      216\n",
              "oeste    216\n",
              "leste    216\n",
              "Name: zona, dtype: int64"
            ]
          },
          "metadata": {
            "tags": []
          },
          "execution_count": 7
        }
      ]
    },
    {
      "cell_type": "code",
      "metadata": {
        "id": "k87MD-U15pO7",
        "colab_type": "code",
        "outputId": "1624a4ca-5b57-4298-8e2b-42789efe7078",
        "colab": {
          "base_uri": "https://localhost:8080/",
          "height": 101
        }
      },
      "source": [
        "X_test['zona'].value_counts()"
      ],
      "execution_count": 8,
      "outputs": [
        {
          "output_type": "execute_result",
          "data": {
            "text/plain": [
              "leste    72\n",
              "norte    72\n",
              "sul      72\n",
              "oeste    72\n",
              "Name: zona, dtype: int64"
            ]
          },
          "metadata": {
            "tags": []
          },
          "execution_count": 8
        }
      ]
    },
    {
      "cell_type": "code",
      "metadata": {
        "id": "b4W_WE3U6My_",
        "colab_type": "code",
        "colab": {}
      },
      "source": [
        "treino = pd.concat([X_train, y_train], axis=1)\n",
        "teste = pd.concat([X_test, y_test], axis=1)\n",
        "\n",
        "treino.to_csv('treino.csv', index=False)\n",
        "teste.to_csv('teste.csv', index=False)"
      ],
      "execution_count": 0,
      "outputs": []
    },
    {
      "cell_type": "code",
      "metadata": {
        "id": "bxDIKBGH6tYw",
        "colab_type": "code",
        "colab": {}
      },
      "source": [
        "del treino, teste, X_train, X_test, y_train, y_test, df\n",
        "df = pd.read_csv('treino.csv')"
      ],
      "execution_count": 0,
      "outputs": []
    },
    {
      "cell_type": "code",
      "metadata": {
        "id": "t2sC7GdGwGXZ",
        "colab_type": "code",
        "outputId": "c52d044d-e387-4c8c-d52c-12d4e7380b43",
        "colab": {
          "base_uri": "https://localhost:8080/",
          "height": 373
        }
      },
      "source": [
        "df.describe(include='all')"
      ],
      "execution_count": 11,
      "outputs": [
        {
          "output_type": "execute_result",
          "data": {
            "text/html": [
              "<div>\n",
              "<style scoped>\n",
              "    .dataframe tbody tr th:only-of-type {\n",
              "        vertical-align: middle;\n",
              "    }\n",
              "\n",
              "    .dataframe tbody tr th {\n",
              "        vertical-align: top;\n",
              "    }\n",
              "\n",
              "    .dataframe thead th {\n",
              "        text-align: right;\n",
              "    }\n",
              "</style>\n",
              "<table border=\"1\" class=\"dataframe\">\n",
              "  <thead>\n",
              "    <tr style=\"text-align: right;\">\n",
              "      <th></th>\n",
              "      <th>zona</th>\n",
              "      <th>quartos</th>\n",
              "      <th>area</th>\n",
              "      <th>preco</th>\n",
              "    </tr>\n",
              "  </thead>\n",
              "  <tbody>\n",
              "    <tr>\n",
              "      <th>count</th>\n",
              "      <td>864</td>\n",
              "      <td>804.000000</td>\n",
              "      <td>864.000000</td>\n",
              "      <td>8.640000e+02</td>\n",
              "    </tr>\n",
              "    <tr>\n",
              "      <th>unique</th>\n",
              "      <td>4</td>\n",
              "      <td>NaN</td>\n",
              "      <td>NaN</td>\n",
              "      <td>NaN</td>\n",
              "    </tr>\n",
              "    <tr>\n",
              "      <th>top</th>\n",
              "      <td>norte</td>\n",
              "      <td>NaN</td>\n",
              "      <td>NaN</td>\n",
              "      <td>NaN</td>\n",
              "    </tr>\n",
              "    <tr>\n",
              "      <th>freq</th>\n",
              "      <td>216</td>\n",
              "      <td>NaN</td>\n",
              "      <td>NaN</td>\n",
              "      <td>NaN</td>\n",
              "    </tr>\n",
              "    <tr>\n",
              "      <th>mean</th>\n",
              "      <td>NaN</td>\n",
              "      <td>2.598259</td>\n",
              "      <td>176.914352</td>\n",
              "      <td>8.524549e+03</td>\n",
              "    </tr>\n",
              "    <tr>\n",
              "      <th>std</th>\n",
              "      <td>NaN</td>\n",
              "      <td>1.562017</td>\n",
              "      <td>160.104802</td>\n",
              "      <td>6.585445e+04</td>\n",
              "    </tr>\n",
              "    <tr>\n",
              "      <th>min</th>\n",
              "      <td>NaN</td>\n",
              "      <td>1.000000</td>\n",
              "      <td>1.000000</td>\n",
              "      <td>3.000000e+02</td>\n",
              "    </tr>\n",
              "    <tr>\n",
              "      <th>25%</th>\n",
              "      <td>NaN</td>\n",
              "      <td>2.000000</td>\n",
              "      <td>60.000000</td>\n",
              "      <td>1.200000e+03</td>\n",
              "    </tr>\n",
              "    <tr>\n",
              "      <th>50%</th>\n",
              "      <td>NaN</td>\n",
              "      <td>2.000000</td>\n",
              "      <td>125.000000</td>\n",
              "      <td>2.500000e+03</td>\n",
              "    </tr>\n",
              "    <tr>\n",
              "      <th>75%</th>\n",
              "      <td>NaN</td>\n",
              "      <td>3.000000</td>\n",
              "      <td>234.000000</td>\n",
              "      <td>5.500000e+03</td>\n",
              "    </tr>\n",
              "    <tr>\n",
              "      <th>max</th>\n",
              "      <td>NaN</td>\n",
              "      <td>17.000000</td>\n",
              "      <td>1000.000000</td>\n",
              "      <td>1.800000e+06</td>\n",
              "    </tr>\n",
              "  </tbody>\n",
              "</table>\n",
              "</div>"
            ],
            "text/plain": [
              "         zona     quartos         area         preco\n",
              "count     864  804.000000   864.000000  8.640000e+02\n",
              "unique      4         NaN          NaN           NaN\n",
              "top     norte         NaN          NaN           NaN\n",
              "freq      216         NaN          NaN           NaN\n",
              "mean      NaN    2.598259   176.914352  8.524549e+03\n",
              "std       NaN    1.562017   160.104802  6.585445e+04\n",
              "min       NaN    1.000000     1.000000  3.000000e+02\n",
              "25%       NaN    2.000000    60.000000  1.200000e+03\n",
              "50%       NaN    2.000000   125.000000  2.500000e+03\n",
              "75%       NaN    3.000000   234.000000  5.500000e+03\n",
              "max       NaN   17.000000  1000.000000  1.800000e+06"
            ]
          },
          "metadata": {
            "tags": []
          },
          "execution_count": 11
        }
      ]
    },
    {
      "cell_type": "code",
      "metadata": {
        "id": "334A4avcwJs0",
        "colab_type": "code",
        "outputId": "6bfb3326-2ade-476b-f51c-fa4d6002b4f3",
        "colab": {
          "base_uri": "https://localhost:8080/",
          "height": 584
        }
      },
      "source": [
        "sns.pairplot(df, kind='reg', plot_kws={'line_kws':{'color':'orange'}})"
      ],
      "execution_count": 12,
      "outputs": [
        {
          "output_type": "execute_result",
          "data": {
            "text/plain": [
              "<seaborn.axisgrid.PairGrid at 0x7f14e2ab9b70>"
            ]
          },
          "metadata": {
            "tags": []
          },
          "execution_count": 12
        },
        {
          "output_type": "display_data",
          "data": {
            "image/png": "[encoded data removed]",
            "text/plain": [
              "<Figure size 540x540 with 12 Axes>"
            ]
          },
          "metadata": {
            "tags": []
          }
        }
      ]
    },
    {
      "cell_type": "code",
      "metadata": {
        "id": "fOQewrJ2xj4_",
        "colab_type": "code",
        "colab": {}
      },
      "source": [
        "# Limpeza dos dados\n",
        "LIMITE_PRECO = 100000 # Valor maximo de aluguel\n",
        "LIMITE_AREA = 2500"
      ],
      "execution_count": 0,
      "outputs": []
    },
    {
      "cell_type": "code",
      "metadata": {
        "id": "-2eXW3nVy6D5",
        "colab_type": "code",
        "outputId": "e8bc0037-5609-449e-d4e0-8c90eabcc588",
        "colab": {
          "base_uri": "https://localhost:8080/",
          "height": 70
        }
      },
      "source": [
        "df_limpo = df[df['preco']<=LIMITE_PRECO][df['area']<=LIMITE_AREA]"
      ],
      "execution_count": 14,
      "outputs": [
        {
          "output_type": "stream",
          "text": [
            "/usr/local/lib/python3.6/dist-packages/ipykernel_launcher.py:1: UserWarning: Boolean Series key will be reindexed to match DataFrame index.\n",
            "  \"\"\"Entry point for launching an IPython kernel.\n"
          ],
          "name": "stderr"
        }
      ]
    },
    {
      "cell_type": "code",
      "metadata": {
        "id": "viftHJSmyckU",
        "colab_type": "code",
        "outputId": "5eae2729-e2e3-466f-a855-2d9d98b64116",
        "colab": {
          "base_uri": "https://localhost:8080/",
          "height": 584
        }
      },
      "source": [
        "sns.pairplot(df_limpo, kind='reg', plot_kws={'line_kws':{'color':'orange'}})"
      ],
      "execution_count": 15,
      "outputs": [
        {
          "output_type": "execute_result",
          "data": {
            "text/plain": [
              "<seaborn.axisgrid.PairGrid at 0x7f14df9fc198>"
            ]
          },
          "metadata": {
            "tags": []
          },
          "execution_count": 15
        },
        {
          "output_type": "display_data",
          "data": {
            "image/png": "[encoded data removed]",
            "text/plain": [
              "<Figure size 540x540 with 12 Axes>"
            ]
          },
          "metadata": {
            "tags": []
          }
        }
      ]
    },
    {
      "cell_type": "code",
      "metadata": {
        "id": "KbcOKyxGygKj",
        "colab_type": "code",
        "outputId": "9b4d2005-be9e-4b47-bbcf-fcb511299411",
        "colab": {
          "base_uri": "https://localhost:8080/",
          "height": 282
        }
      },
      "source": [
        "df_limpo['preco'].hist(bins=30)"
      ],
      "execution_count": 16,
      "outputs": [
        {
          "output_type": "execute_result",
          "data": {
            "text/plain": [
              "<matplotlib.axes._subplots.AxesSubplot at 0x7f14df607b70>"
            ]
          },
          "metadata": {
            "tags": []
          },
          "execution_count": 16
        },
        {
          "output_type": "display_data",
          "data": {
            "image/png": "[encoded data removed]",
            "text/plain": [
              "<Figure size 432x288 with 1 Axes>"
            ]
          },
          "metadata": {
            "tags": []
          }
        }
      ]
    },
    {
      "cell_type": "code",
      "metadata": {
        "id": "MMYI57xG0GU9",
        "colab_type": "code",
        "outputId": "c040bc94-764b-443d-e8b4-7bad6498c44a",
        "colab": {
          "base_uri": "https://localhost:8080/",
          "height": 282
        }
      },
      "source": [
        "df_limpo['preco'].apply(np.log1p).hist(bins=30)"
      ],
      "execution_count": 17,
      "outputs": [
        {
          "output_type": "execute_result",
          "data": {
            "text/plain": [
              "<matplotlib.axes._subplots.AxesSubplot at 0x7f14ddd22b70>"
            ]
          },
          "metadata": {
            "tags": []
          },
          "execution_count": 17
        },
        {
          "output_type": "display_data",
          "data": {
            "image/png": "[encoded data removed]",
            "text/plain": [
              "<Figure size 432x288 with 1 Axes>"
            ]
          },
          "metadata": {
            "tags": []
          }
        }
      ]
    },
    {
      "cell_type": "code",
      "metadata": {
        "id": "u-3NelJU1XJt",
        "colab_type": "code",
        "colab": {}
      },
      "source": [
        "# Aplicando transformacao logaritmica\n",
        "df_limpo['preco'] = df_limpo['preco'].apply(np.log1p)\n",
        "#df_limpo['quartos'] = df_limpo['quartos'].apply(np.log1p)\n",
        "df_limpo['area'] = df_limpo['area'].apply(np.log1p)"
      ],
      "execution_count": 0,
      "outputs": []
    },
    {
      "cell_type": "code",
      "metadata": {
        "id": "pbpllRiq01jp",
        "colab_type": "code",
        "outputId": "8da45295-b13e-4897-a62f-76f268c583b1",
        "colab": {
          "base_uri": "https://localhost:8080/",
          "height": 584
        }
      },
      "source": [
        "sns.pairplot(df_limpo, kind='reg', plot_kws={'line_kws':{'color':'orange'}})"
      ],
      "execution_count": 19,
      "outputs": [
        {
          "output_type": "execute_result",
          "data": {
            "text/plain": [
              "<seaborn.axisgrid.PairGrid at 0x7f14ddd59320>"
            ]
          },
          "metadata": {
            "tags": []
          },
          "execution_count": 19
        },
        {
          "output_type": "display_data",
          "data": {
            "image/png": "[encoded data removed]",
            "text/plain": [
              "<Figure size 540x540 with 12 Axes>"
            ]
          },
          "metadata": {
            "tags": []
          }
        }
      ]
    },
    {
      "cell_type": "code",
      "metadata": {
        "id": "3wnFw5oT02zh",
        "colab_type": "code",
        "outputId": "f59962e5-160b-474f-f090-6feee5e327f9",
        "colab": {
          "base_uri": "https://localhost:8080/",
          "height": 34
        }
      },
      "source": [
        "# Preencher dados ausentes dos quartos\n",
        "df_limpo['quartos'].median()"
      ],
      "execution_count": 20,
      "outputs": [
        {
          "output_type": "execute_result",
          "data": {
            "text/plain": [
              "2.0"
            ]
          },
          "metadata": {
            "tags": []
          },
          "execution_count": 20
        }
      ]
    },
    {
      "cell_type": "code",
      "metadata": {
        "id": "KBvKXF0V2ne4",
        "colab_type": "code",
        "colab": {}
      },
      "source": [
        "#df_limpo.loc[df_limpo['quartos'].isna(),'quartos'] = df_limpo['quartos'].median()"
      ],
      "execution_count": 0,
      "outputs": []
    },
    {
      "cell_type": "code",
      "metadata": {
        "id": "B9a8f9EHE0AJ",
        "colab_type": "code",
        "colab": {}
      },
      "source": [
        "from sklearn.linear_model import LinearRegression\n",
        "from sklearn.ensemble import RandomForestRegressor"
      ],
      "execution_count": 0,
      "outputs": []
    },
    {
      "cell_type": "code",
      "metadata": {
        "id": "i9pLXxDFE0OO",
        "colab_type": "code",
        "colab": {}
      },
      "source": [
        "#reg = LinearRegression()\n",
        "reg = RandomForestRegressor()"
      ],
      "execution_count": 0,
      "outputs": []
    },
    {
      "cell_type": "code",
      "metadata": {
        "id": "7YyWgjQEFG7H",
        "colab_type": "code",
        "outputId": "635e8249-20fc-45c1-c938-cb3b68358931",
        "colab": {
          "base_uri": "https://localhost:8080/",
          "height": 402
        }
      },
      "source": [
        "df_limpo[~df_limpo['quartos'].isna()]"
      ],
      "execution_count": 24,
      "outputs": [
        {
          "output_type": "execute_result",
          "data": {
            "text/html": [
              "<div>\n",
              "<style scoped>\n",
              "    .dataframe tbody tr th:only-of-type {\n",
              "        vertical-align: middle;\n",
              "    }\n",
              "\n",
              "    .dataframe tbody tr th {\n",
              "        vertical-align: top;\n",
              "    }\n",
              "\n",
              "    .dataframe thead th {\n",
              "        text-align: right;\n",
              "    }\n",
              "</style>\n",
              "<table border=\"1\" class=\"dataframe\">\n",
              "  <thead>\n",
              "    <tr style=\"text-align: right;\">\n",
              "      <th></th>\n",
              "      <th>zona</th>\n",
              "      <th>quartos</th>\n",
              "      <th>area</th>\n",
              "      <th>preco</th>\n",
              "    </tr>\n",
              "  </thead>\n",
              "  <tbody>\n",
              "    <tr>\n",
              "      <th>0</th>\n",
              "      <td>norte</td>\n",
              "      <td>3.0</td>\n",
              "      <td>5.707110</td>\n",
              "      <td>7.378384</td>\n",
              "    </tr>\n",
              "    <tr>\n",
              "      <th>1</th>\n",
              "      <td>sul</td>\n",
              "      <td>3.0</td>\n",
              "      <td>5.017280</td>\n",
              "      <td>8.294300</td>\n",
              "    </tr>\n",
              "    <tr>\n",
              "      <th>2</th>\n",
              "      <td>norte</td>\n",
              "      <td>4.0</td>\n",
              "      <td>5.993961</td>\n",
              "      <td>8.699681</td>\n",
              "    </tr>\n",
              "    <tr>\n",
              "      <th>3</th>\n",
              "      <td>leste</td>\n",
              "      <td>2.0</td>\n",
              "      <td>4.025352</td>\n",
              "      <td>6.857514</td>\n",
              "    </tr>\n",
              "    <tr>\n",
              "      <th>4</th>\n",
              "      <td>sul</td>\n",
              "      <td>4.0</td>\n",
              "      <td>6.206576</td>\n",
              "      <td>8.517393</td>\n",
              "    </tr>\n",
              "    <tr>\n",
              "      <th>...</th>\n",
              "      <td>...</td>\n",
              "      <td>...</td>\n",
              "      <td>...</td>\n",
              "      <td>...</td>\n",
              "    </tr>\n",
              "    <tr>\n",
              "      <th>857</th>\n",
              "      <td>sul</td>\n",
              "      <td>2.0</td>\n",
              "      <td>4.394449</td>\n",
              "      <td>8.039480</td>\n",
              "    </tr>\n",
              "    <tr>\n",
              "      <th>860</th>\n",
              "      <td>sul</td>\n",
              "      <td>6.0</td>\n",
              "      <td>5.442418</td>\n",
              "      <td>8.612685</td>\n",
              "    </tr>\n",
              "    <tr>\n",
              "      <th>861</th>\n",
              "      <td>leste</td>\n",
              "      <td>3.0</td>\n",
              "      <td>4.795791</td>\n",
              "      <td>8.006701</td>\n",
              "    </tr>\n",
              "    <tr>\n",
              "      <th>862</th>\n",
              "      <td>leste</td>\n",
              "      <td>3.0</td>\n",
              "      <td>4.510860</td>\n",
              "      <td>7.170888</td>\n",
              "    </tr>\n",
              "    <tr>\n",
              "      <th>863</th>\n",
              "      <td>leste</td>\n",
              "      <td>2.0</td>\n",
              "      <td>4.094345</td>\n",
              "      <td>7.048386</td>\n",
              "    </tr>\n",
              "  </tbody>\n",
              "</table>\n",
              "<p>800 rows × 4 columns</p>\n",
              "</div>"
            ],
            "text/plain": [
              "      zona  quartos      area     preco\n",
              "0    norte      3.0  5.707110  7.378384\n",
              "1      sul      3.0  5.017280  8.294300\n",
              "2    norte      4.0  5.993961  8.699681\n",
              "3    leste      2.0  4.025352  6.857514\n",
              "4      sul      4.0  6.206576  8.517393\n",
              "..     ...      ...       ...       ...\n",
              "857    sul      2.0  4.394449  8.039480\n",
              "860    sul      6.0  5.442418  8.612685\n",
              "861  leste      3.0  4.795791  8.006701\n",
              "862  leste      3.0  4.510860  7.170888\n",
              "863  leste      2.0  4.094345  7.048386\n",
              "\n",
              "[800 rows x 4 columns]"
            ]
          },
          "metadata": {
            "tags": []
          },
          "execution_count": 24
        }
      ]
    },
    {
      "cell_type": "code",
      "metadata": {
        "id": "GshbksluFCmh",
        "colab_type": "code",
        "colab": {}
      },
      "source": [
        "X_fillna = df_limpo.loc[~df_limpo['quartos'].isna(),'area']"
      ],
      "execution_count": 0,
      "outputs": []
    },
    {
      "cell_type": "code",
      "metadata": {
        "id": "cFCnMwqBFbE6",
        "colab_type": "code",
        "colab": {}
      },
      "source": [
        "y_fillna = df_limpo.loc[~df_limpo['quartos'].isna(),'quartos']"
      ],
      "execution_count": 0,
      "outputs": []
    },
    {
      "cell_type": "code",
      "metadata": {
        "id": "XAcdZH6yE52G",
        "colab_type": "code",
        "outputId": "c3702fb4-9033-4341-8d0e-1e1e7f12d2a0",
        "colab": {
          "base_uri": "https://localhost:8080/",
          "height": 188
        }
      },
      "source": [
        "reg.fit(X_fillna.values.reshape(-1, 1), y_fillna.values.reshape(-1, 1))"
      ],
      "execution_count": 27,
      "outputs": [
        {
          "output_type": "stream",
          "text": [
            "/usr/local/lib/python3.6/dist-packages/ipykernel_launcher.py:1: DataConversionWarning: A column-vector y was passed when a 1d array was expected. Please change the shape of y to (n_samples,), for example using ravel().\n",
            "  \"\"\"Entry point for launching an IPython kernel.\n"
          ],
          "name": "stderr"
        },
        {
          "output_type": "execute_result",
          "data": {
            "text/plain": [
              "RandomForestRegressor(bootstrap=True, ccp_alpha=0.0, criterion='mse',\n",
              "                      max_depth=None, max_features='auto', max_leaf_nodes=None,\n",
              "                      max_samples=None, min_impurity_decrease=0.0,\n",
              "                      min_impurity_split=None, min_samples_leaf=1,\n",
              "                      min_samples_split=2, min_weight_fraction_leaf=0.0,\n",
              "                      n_estimators=100, n_jobs=None, oob_score=False,\n",
              "                      random_state=None, verbose=0, warm_start=False)"
            ]
          },
          "metadata": {
            "tags": []
          },
          "execution_count": 27
        }
      ]
    },
    {
      "cell_type": "code",
      "metadata": {
        "id": "ZkxH1ExlE8zc",
        "colab_type": "code",
        "outputId": "07d18719-9ff7-4389-dbe8-7a3fb68cdf90",
        "colab": {
          "base_uri": "https://localhost:8080/",
          "height": 34
        }
      },
      "source": [
        "reg.predict([[np.log1p(40)]]).astype(int)"
      ],
      "execution_count": 28,
      "outputs": [
        {
          "output_type": "execute_result",
          "data": {
            "text/plain": [
              "array([1])"
            ]
          },
          "metadata": {
            "tags": []
          },
          "execution_count": 28
        }
      ]
    },
    {
      "cell_type": "code",
      "metadata": {
        "id": "YdAkw3jVE8_0",
        "colab_type": "code",
        "colab": {}
      },
      "source": [
        "X_fillna_pred = df_limpo.loc[df_limpo['quartos'].isna(),'area'].values.reshape(-1, 1)"
      ],
      "execution_count": 0,
      "outputs": []
    },
    {
      "cell_type": "code",
      "metadata": {
        "id": "yakPYsCDHqzZ",
        "colab_type": "code",
        "outputId": "6e1150c0-719a-40cf-eb61-e4645d122a41",
        "colab": {
          "base_uri": "https://localhost:8080/",
          "height": 67
        }
      },
      "source": [
        "y_fillna_pred = reg.predict(X_fillna_pred).astype(int); y_fillna_pred"
      ],
      "execution_count": 30,
      "outputs": [
        {
          "output_type": "execute_result",
          "data": {
            "text/plain": [
              "array([2, 3, 3, 2, 2, 3, 2, 4, 2, 3, 4, 3, 2, 2, 2, 3, 3, 3, 3, 3, 3, 2,\n",
              "       2, 2, 1, 4, 4, 3, 4, 4, 2, 3, 2, 3, 2, 3, 3, 2, 3, 3, 2, 2, 5, 2,\n",
              "       5, 2, 3, 4, 3, 2, 2, 2, 2, 1, 4, 3, 3, 3, 3])"
            ]
          },
          "metadata": {
            "tags": []
          },
          "execution_count": 30
        }
      ]
    },
    {
      "cell_type": "code",
      "metadata": {
        "id": "jhONFc06H5P7",
        "colab_type": "code",
        "colab": {}
      },
      "source": [
        "df_limpo.loc[df_limpo['quartos'].isna(),'quartos'] = y_fillna_pred"
      ],
      "execution_count": 0,
      "outputs": []
    },
    {
      "cell_type": "code",
      "metadata": {
        "id": "tbUYUUD9IACZ",
        "colab_type": "code",
        "outputId": "97df4dda-d53f-416a-f9c6-a074c1b30b96",
        "colab": {
          "base_uri": "https://localhost:8080/",
          "height": 195
        }
      },
      "source": [
        "df_limpo.head()"
      ],
      "execution_count": 32,
      "outputs": [
        {
          "output_type": "execute_result",
          "data": {
            "text/html": [
              "<div>\n",
              "<style scoped>\n",
              "    .dataframe tbody tr th:only-of-type {\n",
              "        vertical-align: middle;\n",
              "    }\n",
              "\n",
              "    .dataframe tbody tr th {\n",
              "        vertical-align: top;\n",
              "    }\n",
              "\n",
              "    .dataframe thead th {\n",
              "        text-align: right;\n",
              "    }\n",
              "</style>\n",
              "<table border=\"1\" class=\"dataframe\">\n",
              "  <thead>\n",
              "    <tr style=\"text-align: right;\">\n",
              "      <th></th>\n",
              "      <th>zona</th>\n",
              "      <th>quartos</th>\n",
              "      <th>area</th>\n",
              "      <th>preco</th>\n",
              "    </tr>\n",
              "  </thead>\n",
              "  <tbody>\n",
              "    <tr>\n",
              "      <th>0</th>\n",
              "      <td>norte</td>\n",
              "      <td>3.0</td>\n",
              "      <td>5.707110</td>\n",
              "      <td>7.378384</td>\n",
              "    </tr>\n",
              "    <tr>\n",
              "      <th>1</th>\n",
              "      <td>sul</td>\n",
              "      <td>3.0</td>\n",
              "      <td>5.017280</td>\n",
              "      <td>8.294300</td>\n",
              "    </tr>\n",
              "    <tr>\n",
              "      <th>2</th>\n",
              "      <td>norte</td>\n",
              "      <td>4.0</td>\n",
              "      <td>5.993961</td>\n",
              "      <td>8.699681</td>\n",
              "    </tr>\n",
              "    <tr>\n",
              "      <th>3</th>\n",
              "      <td>leste</td>\n",
              "      <td>2.0</td>\n",
              "      <td>4.025352</td>\n",
              "      <td>6.857514</td>\n",
              "    </tr>\n",
              "    <tr>\n",
              "      <th>4</th>\n",
              "      <td>sul</td>\n",
              "      <td>4.0</td>\n",
              "      <td>6.206576</td>\n",
              "      <td>8.517393</td>\n",
              "    </tr>\n",
              "  </tbody>\n",
              "</table>\n",
              "</div>"
            ],
            "text/plain": [
              "    zona  quartos      area     preco\n",
              "0  norte      3.0  5.707110  7.378384\n",
              "1    sul      3.0  5.017280  8.294300\n",
              "2  norte      4.0  5.993961  8.699681\n",
              "3  leste      2.0  4.025352  6.857514\n",
              "4    sul      4.0  6.206576  8.517393"
            ]
          },
          "metadata": {
            "tags": []
          },
          "execution_count": 32
        }
      ]
    },
    {
      "cell_type": "code",
      "metadata": {
        "id": "gWYM2tmUDkHV",
        "colab_type": "code",
        "outputId": "1cc042ac-8d87-4110-a197-79b43742607a",
        "colab": {
          "base_uri": "https://localhost:8080/",
          "height": 284
        }
      },
      "source": [
        "df_limpo.describe()"
      ],
      "execution_count": 33,
      "outputs": [
        {
          "output_type": "execute_result",
          "data": {
            "text/html": [
              "<div>\n",
              "<style scoped>\n",
              "    .dataframe tbody tr th:only-of-type {\n",
              "        vertical-align: middle;\n",
              "    }\n",
              "\n",
              "    .dataframe tbody tr th {\n",
              "        vertical-align: top;\n",
              "    }\n",
              "\n",
              "    .dataframe thead th {\n",
              "        text-align: right;\n",
              "    }\n",
              "</style>\n",
              "<table border=\"1\" class=\"dataframe\">\n",
              "  <thead>\n",
              "    <tr style=\"text-align: right;\">\n",
              "      <th></th>\n",
              "      <th>quartos</th>\n",
              "      <th>area</th>\n",
              "      <th>preco</th>\n",
              "    </tr>\n",
              "  </thead>\n",
              "  <tbody>\n",
              "    <tr>\n",
              "      <th>count</th>\n",
              "      <td>859.000000</td>\n",
              "      <td>859.000000</td>\n",
              "      <td>859.000000</td>\n",
              "    </tr>\n",
              "    <tr>\n",
              "      <th>mean</th>\n",
              "      <td>2.610012</td>\n",
              "      <td>4.807831</td>\n",
              "      <td>7.902039</td>\n",
              "    </tr>\n",
              "    <tr>\n",
              "      <th>std</th>\n",
              "      <td>1.526897</td>\n",
              "      <td>0.901770</td>\n",
              "      <td>1.031470</td>\n",
              "    </tr>\n",
              "    <tr>\n",
              "      <th>min</th>\n",
              "      <td>1.000000</td>\n",
              "      <td>0.693147</td>\n",
              "      <td>5.707110</td>\n",
              "    </tr>\n",
              "    <tr>\n",
              "      <th>25%</th>\n",
              "      <td>2.000000</td>\n",
              "      <td>4.110874</td>\n",
              "      <td>7.090910</td>\n",
              "    </tr>\n",
              "    <tr>\n",
              "      <th>50%</th>\n",
              "      <td>2.000000</td>\n",
              "      <td>4.795791</td>\n",
              "      <td>7.783641</td>\n",
              "    </tr>\n",
              "    <tr>\n",
              "      <th>75%</th>\n",
              "      <td>3.000000</td>\n",
              "      <td>5.446728</td>\n",
              "      <td>8.612685</td>\n",
              "    </tr>\n",
              "    <tr>\n",
              "      <th>max</th>\n",
              "      <td>17.000000</td>\n",
              "      <td>6.908755</td>\n",
              "      <td>11.407576</td>\n",
              "    </tr>\n",
              "  </tbody>\n",
              "</table>\n",
              "</div>"
            ],
            "text/plain": [
              "          quartos        area       preco\n",
              "count  859.000000  859.000000  859.000000\n",
              "mean     2.610012    4.807831    7.902039\n",
              "std      1.526897    0.901770    1.031470\n",
              "min      1.000000    0.693147    5.707110\n",
              "25%      2.000000    4.110874    7.090910\n",
              "50%      2.000000    4.795791    7.783641\n",
              "75%      3.000000    5.446728    8.612685\n",
              "max     17.000000    6.908755   11.407576"
            ]
          },
          "metadata": {
            "tags": []
          },
          "execution_count": 33
        }
      ]
    },
    {
      "cell_type": "code",
      "metadata": {
        "id": "4R61KoQPD-Nf",
        "colab_type": "code",
        "colab": {}
      },
      "source": [
        "df_limpo['quartos'] = df_limpo['quartos'].apply(np.log1p)"
      ],
      "execution_count": 0,
      "outputs": []
    },
    {
      "cell_type": "code",
      "metadata": {
        "id": "D6w6OBwrEUFu",
        "colab_type": "code",
        "outputId": "9dcb3f52-ce7b-4f6e-9363-bf87d707b833",
        "colab": {
          "base_uri": "https://localhost:8080/",
          "height": 584
        }
      },
      "source": [
        "sns.pairplot(df_limpo, kind='reg', plot_kws={'line_kws':{'color':'orange'}})"
      ],
      "execution_count": 35,
      "outputs": [
        {
          "output_type": "execute_result",
          "data": {
            "text/plain": [
              "<seaborn.axisgrid.PairGrid at 0x7f14da4ab5f8>"
            ]
          },
          "metadata": {
            "tags": []
          },
          "execution_count": 35
        },
        {
          "output_type": "display_data",
          "data": {
            "image/png": "[encoded data removed]",
            "text/plain": [
              "<Figure size 540x540 with 12 Axes>"
            ]
          },
          "metadata": {
            "tags": []
          }
        }
      ]
    },
    {
      "cell_type": "code",
      "metadata": {
        "id": "559ppNCWEWoT",
        "colab_type": "code",
        "colab": {}
      },
      "source": [
        "zona_one_hot = pd.get_dummies(df_limpo['zona'])"
      ],
      "execution_count": 0,
      "outputs": []
    },
    {
      "cell_type": "code",
      "metadata": {
        "id": "kw2Gw8wZIopf",
        "colab_type": "code",
        "colab": {}
      },
      "source": [
        "treino_preprocessado = pd.concat([zona_one_hot, df_limpo[['quartos','area','preco']]], axis=1)"
      ],
      "execution_count": 0,
      "outputs": []
    },
    {
      "cell_type": "code",
      "metadata": {
        "id": "tgM-g3neJgmq",
        "colab_type": "code",
        "colab": {}
      },
      "source": [
        "treino_preprocessado.to_csv('treino_preprocessado.csv', index=False)"
      ],
      "execution_count": 0,
      "outputs": []
    },
    {
      "cell_type": "code",
      "metadata": {
        "id": "rkVFGnAlKOR9",
        "colab_type": "code",
        "outputId": "1b7a601b-3df5-4fc6-bf5f-bdc0dd4a3324",
        "colab": {
          "base_uri": "https://localhost:8080/",
          "height": 50
        }
      },
      "source": [
        "ls"
      ],
      "execution_count": 39,
      "outputs": [
        {
          "output_type": "stream",
          "text": [
            "dados_calculadora_imoveis.csv  teste.csv   treino_preprocessado.csv\n",
            "\u001b[0m\u001b[01;34msample_data\u001b[0m/                   treino.csv\n"
          ],
          "name": "stdout"
        }
      ]
    }
  ]
}